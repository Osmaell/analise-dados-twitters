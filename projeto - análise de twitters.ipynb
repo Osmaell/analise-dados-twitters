{
 "cells": [
  {
   "cell_type": "markdown",
   "id": "e1f3cfa9",
   "metadata": {},
   "source": [
    "<img style=\"float: right;\" src=\"fig/unifor.jpg\" width=\"250px\">\n",
    "\n",
    "## Análise de Ideologia Política dos Twitters do Bolsonaro e Lula\n",
    "\n",
    "Osmael de Sousa Braga <br>\n",
    "MBA em Ciências de Dados <br>\n",
    "Universidade de Fortaleza <br><br><br>\n",
    "\n",
    "__Ideologia Política__\n",
    "\n",
    "Ideologia é um conjunto de ideias, convicções e princípios filosóficos, sociais e políticos <br> que caracterizam o pensamento de um indivíduo, grupo, movimento, época ou sociedade.\n",
    "ficando se as palavras diferentes tem relevância"
   ]
  },
  {
   "cell_type": "code",
   "execution_count": 769,
   "id": "276cfd19",
   "metadata": {},
   "outputs": [],
   "source": [
    "# importando a biblioteca pandas\n",
    "import pandas as pd"
   ]
  },
  {
   "cell_type": "code",
   "execution_count": 770,
   "id": "2a408c81",
   "metadata": {},
   "outputs": [],
   "source": [
    "# importandos um arquivo no formato json.\n",
    "bolsonaro_tweets = pd.read_json('jairbolsonaro.json')"
   ]
  },
  {
   "cell_type": "markdown",
   "id": "3278f540",
   "metadata": {},
   "source": [
    "# Avaliação\n",
    "## Tweets Bolsonaro"
   ]
  },
  {
   "cell_type": "code",
   "execution_count": 771,
   "id": "a8382d4a",
   "metadata": {},
   "outputs": [
    {
     "data": {
      "text/html": [
       "<div>\n",
       "<style scoped>\n",
       "    .dataframe tbody tr th:only-of-type {\n",
       "        vertical-align: middle;\n",
       "    }\n",
       "\n",
       "    .dataframe tbody tr th {\n",
       "        vertical-align: top;\n",
       "    }\n",
       "\n",
       "    .dataframe thead th {\n",
       "        text-align: right;\n",
       "    }\n",
       "</style>\n",
       "<table border=\"1\" class=\"dataframe\">\n",
       "  <thead>\n",
       "    <tr style=\"text-align: right;\">\n",
       "      <th></th>\n",
       "      <th>created_at</th>\n",
       "      <th>id</th>\n",
       "      <th>id_str</th>\n",
       "      <th>full_text</th>\n",
       "      <th>truncated</th>\n",
       "      <th>display_text_range</th>\n",
       "      <th>entities</th>\n",
       "      <th>source</th>\n",
       "      <th>in_reply_to_status_id</th>\n",
       "      <th>in_reply_to_status_id_str</th>\n",
       "      <th>...</th>\n",
       "      <th>favorite_count</th>\n",
       "      <th>favorited</th>\n",
       "      <th>retweeted</th>\n",
       "      <th>lang</th>\n",
       "      <th>extended_entities</th>\n",
       "      <th>possibly_sensitive</th>\n",
       "      <th>quoted_status_id</th>\n",
       "      <th>quoted_status_id_str</th>\n",
       "      <th>quoted_status_permalink</th>\n",
       "      <th>quoted_status</th>\n",
       "    </tr>\n",
       "  </thead>\n",
       "  <tbody>\n",
       "    <tr>\n",
       "      <th>0</th>\n",
       "      <td>2010-04-01 02:59:50+00:00</td>\n",
       "      <td>11402700435</td>\n",
       "      <td>11402700435</td>\n",
       "      <td>EM \"DITADURA\" SEM PAREDÃO, ATÉ CHICO ALENCAR É...</td>\n",
       "      <td>False</td>\n",
       "      <td>[0, 137]</td>\n",
       "      <td>{'hashtags': [], 'symbols': [], 'user_mentions...</td>\n",
       "      <td>&lt;a href=\"https://about.twitter.com/products/tw...</td>\n",
       "      <td>NaN</td>\n",
       "      <td>NaN</td>\n",
       "      <td>...</td>\n",
       "      <td>15</td>\n",
       "      <td>False</td>\n",
       "      <td>False</td>\n",
       "      <td>pt</td>\n",
       "      <td>NaN</td>\n",
       "      <td>NaN</td>\n",
       "      <td>NaN</td>\n",
       "      <td>NaN</td>\n",
       "      <td>NaN</td>\n",
       "      <td>NaN</td>\n",
       "    </tr>\n",
       "    <tr>\n",
       "      <th>1</th>\n",
       "      <td>2019-01-10 11:02:23+00:00</td>\n",
       "      <td>1083318129135112192</td>\n",
       "      <td>1083318129135112192</td>\n",
       "      <td>Bom dia! 🇧🇷 #tbt com o amigo \"Canguru\", que já...</td>\n",
       "      <td>False</td>\n",
       "      <td>[0, 90]</td>\n",
       "      <td>{'hashtags': [{'text': 'tbt', 'indices': [12, ...</td>\n",
       "      <td>&lt;a href=\"http://twitter.com/download/iphone\" r...</td>\n",
       "      <td>NaN</td>\n",
       "      <td>NaN</td>\n",
       "      <td>...</td>\n",
       "      <td>31618</td>\n",
       "      <td>False</td>\n",
       "      <td>False</td>\n",
       "      <td>pt</td>\n",
       "      <td>{'media': [{'id': 1083318121841262592, 'id_str...</td>\n",
       "      <td>0.0</td>\n",
       "      <td>NaN</td>\n",
       "      <td>NaN</td>\n",
       "      <td>NaN</td>\n",
       "      <td>NaN</td>\n",
       "    </tr>\n",
       "    <tr>\n",
       "      <th>2</th>\n",
       "      <td>2019-07-19 02:04:16+00:00</td>\n",
       "      <td>1152036400138579968</td>\n",
       "      <td>1152036400138579968</td>\n",
       "      <td>- Para descontrair. Proibido queimar ovo. (Kkk...</td>\n",
       "      <td>False</td>\n",
       "      <td>[0, 48]</td>\n",
       "      <td>{'hashtags': [], 'symbols': [], 'user_mentions...</td>\n",
       "      <td>&lt;a href=\"http://twitter.com/download/android\" ...</td>\n",
       "      <td>NaN</td>\n",
       "      <td>NaN</td>\n",
       "      <td>...</td>\n",
       "      <td>46637</td>\n",
       "      <td>False</td>\n",
       "      <td>False</td>\n",
       "      <td>pt</td>\n",
       "      <td>{'media': [{'id': 1152036204247953408, 'id_str...</td>\n",
       "      <td>0.0</td>\n",
       "      <td>NaN</td>\n",
       "      <td>NaN</td>\n",
       "      <td>NaN</td>\n",
       "      <td>NaN</td>\n",
       "    </tr>\n",
       "    <tr>\n",
       "      <th>3</th>\n",
       "      <td>2018-10-09 02:52:56+00:00</td>\n",
       "      <td>1049492883328380928</td>\n",
       "      <td>1049492883328380928</td>\n",
       "      <td>Trecho de entrevista ao vivo para o Jornal Nac...</td>\n",
       "      <td>False</td>\n",
       "      <td>[0, 65]</td>\n",
       "      <td>{'hashtags': [], 'symbols': [], 'user_mentions...</td>\n",
       "      <td>&lt;a href=\"http://twitter.com/download/iphone\" r...</td>\n",
       "      <td>NaN</td>\n",
       "      <td>NaN</td>\n",
       "      <td>...</td>\n",
       "      <td>56322</td>\n",
       "      <td>False</td>\n",
       "      <td>False</td>\n",
       "      <td>pt</td>\n",
       "      <td>{'media': [{'id': 1049489244387983360, 'id_str...</td>\n",
       "      <td>0.0</td>\n",
       "      <td>NaN</td>\n",
       "      <td>NaN</td>\n",
       "      <td>NaN</td>\n",
       "      <td>NaN</td>\n",
       "    </tr>\n",
       "    <tr>\n",
       "      <th>4</th>\n",
       "      <td>2017-08-23 15:12:48+00:00</td>\n",
       "      <td>900375277557215232</td>\n",
       "      <td>900375277557215232</td>\n",
       "      <td>Querem criar o fundão bilionário na Reforma Po...</td>\n",
       "      <td>False</td>\n",
       "      <td>[0, 138]</td>\n",
       "      <td>{'hashtags': [], 'symbols': [], 'user_mentions...</td>\n",
       "      <td>&lt;a href=\"http://twitter.com/download/iphone\" r...</td>\n",
       "      <td>NaN</td>\n",
       "      <td>NaN</td>\n",
       "      <td>...</td>\n",
       "      <td>7147</td>\n",
       "      <td>False</td>\n",
       "      <td>False</td>\n",
       "      <td>pt</td>\n",
       "      <td>NaN</td>\n",
       "      <td>NaN</td>\n",
       "      <td>NaN</td>\n",
       "      <td>NaN</td>\n",
       "      <td>NaN</td>\n",
       "      <td>NaN</td>\n",
       "    </tr>\n",
       "    <tr>\n",
       "      <th>5</th>\n",
       "      <td>2014-02-02 17:01:07+00:00</td>\n",
       "      <td>430023085941866496</td>\n",
       "      <td>430023085941866496</td>\n",
       "      <td>Por @Rconstantino : O maior investimento finan...</td>\n",
       "      <td>False</td>\n",
       "      <td>[0, 128]</td>\n",
       "      <td>{'hashtags': [], 'symbols': [], 'user_mentions...</td>\n",
       "      <td>&lt;a href=\"http://twitter.com/download/iphone\" r...</td>\n",
       "      <td>NaN</td>\n",
       "      <td>NaN</td>\n",
       "      <td>...</td>\n",
       "      <td>18</td>\n",
       "      <td>False</td>\n",
       "      <td>False</td>\n",
       "      <td>pt</td>\n",
       "      <td>NaN</td>\n",
       "      <td>0.0</td>\n",
       "      <td>NaN</td>\n",
       "      <td>NaN</td>\n",
       "      <td>NaN</td>\n",
       "      <td>NaN</td>\n",
       "    </tr>\n",
       "    <tr>\n",
       "      <th>6</th>\n",
       "      <td>2019-04-28 15:06:04+00:00</td>\n",
       "      <td>1122517342506954752</td>\n",
       "      <td>1122517342506954752</td>\n",
       "      <td>@guilhermesousa Kkkkkkk... tá ok, roteirista d...</td>\n",
       "      <td>False</td>\n",
       "      <td>[16, 57]</td>\n",
       "      <td>{'hashtags': [], 'symbols': [], 'user_mentions...</td>\n",
       "      <td>&lt;a href=\"http://twitter.com/download/iphone\" r...</td>\n",
       "      <td>1.122516e+18</td>\n",
       "      <td>1.122516e+18</td>\n",
       "      <td>...</td>\n",
       "      <td>27994</td>\n",
       "      <td>False</td>\n",
       "      <td>False</td>\n",
       "      <td>pt</td>\n",
       "      <td>NaN</td>\n",
       "      <td>NaN</td>\n",
       "      <td>NaN</td>\n",
       "      <td>NaN</td>\n",
       "      <td>NaN</td>\n",
       "      <td>NaN</td>\n",
       "    </tr>\n",
       "    <tr>\n",
       "      <th>7</th>\n",
       "      <td>2019-12-06 02:39:15+00:00</td>\n",
       "      <td>1202779506282573824</td>\n",
       "      <td>1202779506282573824</td>\n",
       "      <td>@Gus_Vilarinho - 👍🇧🇷</td>\n",
       "      <td>False</td>\n",
       "      <td>[15, 20]</td>\n",
       "      <td>{'hashtags': [], 'symbols': [], 'user_mentions...</td>\n",
       "      <td>&lt;a href=\"http://twitter.com/download/android\" ...</td>\n",
       "      <td>1.202779e+18</td>\n",
       "      <td>1.202779e+18</td>\n",
       "      <td>...</td>\n",
       "      <td>1076</td>\n",
       "      <td>False</td>\n",
       "      <td>False</td>\n",
       "      <td>und</td>\n",
       "      <td>NaN</td>\n",
       "      <td>NaN</td>\n",
       "      <td>NaN</td>\n",
       "      <td>NaN</td>\n",
       "      <td>NaN</td>\n",
       "      <td>NaN</td>\n",
       "    </tr>\n",
       "    <tr>\n",
       "      <th>8</th>\n",
       "      <td>2018-08-09 11:18:36+00:00</td>\n",
       "      <td>1027514476311060480</td>\n",
       "      <td>1027514476311060480</td>\n",
       "      <td>A LEGALIZAÇÃO DO LATROCÍNIO. Via @CanalHipocri...</td>\n",
       "      <td>False</td>\n",
       "      <td>[0, 49]</td>\n",
       "      <td>{'hashtags': [], 'symbols': [], 'user_mentions...</td>\n",
       "      <td>&lt;a href=\"http://twitter.com/download/iphone\" r...</td>\n",
       "      <td>NaN</td>\n",
       "      <td>NaN</td>\n",
       "      <td>...</td>\n",
       "      <td>6579</td>\n",
       "      <td>False</td>\n",
       "      <td>False</td>\n",
       "      <td>pt</td>\n",
       "      <td>{'media': [{'id': 1027514259696218112, 'id_str...</td>\n",
       "      <td>0.0</td>\n",
       "      <td>NaN</td>\n",
       "      <td>NaN</td>\n",
       "      <td>NaN</td>\n",
       "      <td>NaN</td>\n",
       "    </tr>\n",
       "    <tr>\n",
       "      <th>9</th>\n",
       "      <td>2016-05-29 23:21:29+00:00</td>\n",
       "      <td>737061327533932545</td>\n",
       "      <td>737061327533932544</td>\n",
       "      <td>Prefeitura do Rio/RJ-Lançamento pré-candidatur...</td>\n",
       "      <td>False</td>\n",
       "      <td>[0, 115]</td>\n",
       "      <td>{'hashtags': [], 'symbols': [], 'user_mentions...</td>\n",
       "      <td>&lt;a href=\"http://twitter.com/download/iphone\" r...</td>\n",
       "      <td>NaN</td>\n",
       "      <td>NaN</td>\n",
       "      <td>...</td>\n",
       "      <td>1365</td>\n",
       "      <td>False</td>\n",
       "      <td>False</td>\n",
       "      <td>pt</td>\n",
       "      <td>{'media': [{'id': 737061123044847617, 'id_str'...</td>\n",
       "      <td>0.0</td>\n",
       "      <td>NaN</td>\n",
       "      <td>NaN</td>\n",
       "      <td>NaN</td>\n",
       "      <td>NaN</td>\n",
       "    </tr>\n",
       "  </tbody>\n",
       "</table>\n",
       "<p>10 rows × 30 columns</p>\n",
       "</div>"
      ],
      "text/plain": [
       "                 created_at                   id               id_str  \\\n",
       "0 2010-04-01 02:59:50+00:00          11402700435          11402700435   \n",
       "1 2019-01-10 11:02:23+00:00  1083318129135112192  1083318129135112192   \n",
       "2 2019-07-19 02:04:16+00:00  1152036400138579968  1152036400138579968   \n",
       "3 2018-10-09 02:52:56+00:00  1049492883328380928  1049492883328380928   \n",
       "4 2017-08-23 15:12:48+00:00   900375277557215232   900375277557215232   \n",
       "5 2014-02-02 17:01:07+00:00   430023085941866496   430023085941866496   \n",
       "6 2019-04-28 15:06:04+00:00  1122517342506954752  1122517342506954752   \n",
       "7 2019-12-06 02:39:15+00:00  1202779506282573824  1202779506282573824   \n",
       "8 2018-08-09 11:18:36+00:00  1027514476311060480  1027514476311060480   \n",
       "9 2016-05-29 23:21:29+00:00   737061327533932545   737061327533932544   \n",
       "\n",
       "                                           full_text  truncated  \\\n",
       "0  EM \"DITADURA\" SEM PAREDÃO, ATÉ CHICO ALENCAR É...      False   \n",
       "1  Bom dia! 🇧🇷 #tbt com o amigo \"Canguru\", que já...      False   \n",
       "2  - Para descontrair. Proibido queimar ovo. (Kkk...      False   \n",
       "3  Trecho de entrevista ao vivo para o Jornal Nac...      False   \n",
       "4  Querem criar o fundão bilionário na Reforma Po...      False   \n",
       "5  Por @Rconstantino : O maior investimento finan...      False   \n",
       "6  @guilhermesousa Kkkkkkk... tá ok, roteirista d...      False   \n",
       "7                               @Gus_Vilarinho - 👍🇧🇷      False   \n",
       "8  A LEGALIZAÇÃO DO LATROCÍNIO. Via @CanalHipocri...      False   \n",
       "9  Prefeitura do Rio/RJ-Lançamento pré-candidatur...      False   \n",
       "\n",
       "  display_text_range                                           entities  \\\n",
       "0           [0, 137]  {'hashtags': [], 'symbols': [], 'user_mentions...   \n",
       "1            [0, 90]  {'hashtags': [{'text': 'tbt', 'indices': [12, ...   \n",
       "2            [0, 48]  {'hashtags': [], 'symbols': [], 'user_mentions...   \n",
       "3            [0, 65]  {'hashtags': [], 'symbols': [], 'user_mentions...   \n",
       "4           [0, 138]  {'hashtags': [], 'symbols': [], 'user_mentions...   \n",
       "5           [0, 128]  {'hashtags': [], 'symbols': [], 'user_mentions...   \n",
       "6           [16, 57]  {'hashtags': [], 'symbols': [], 'user_mentions...   \n",
       "7           [15, 20]  {'hashtags': [], 'symbols': [], 'user_mentions...   \n",
       "8            [0, 49]  {'hashtags': [], 'symbols': [], 'user_mentions...   \n",
       "9           [0, 115]  {'hashtags': [], 'symbols': [], 'user_mentions...   \n",
       "\n",
       "                                              source  in_reply_to_status_id  \\\n",
       "0  <a href=\"https://about.twitter.com/products/tw...                    NaN   \n",
       "1  <a href=\"http://twitter.com/download/iphone\" r...                    NaN   \n",
       "2  <a href=\"http://twitter.com/download/android\" ...                    NaN   \n",
       "3  <a href=\"http://twitter.com/download/iphone\" r...                    NaN   \n",
       "4  <a href=\"http://twitter.com/download/iphone\" r...                    NaN   \n",
       "5  <a href=\"http://twitter.com/download/iphone\" r...                    NaN   \n",
       "6  <a href=\"http://twitter.com/download/iphone\" r...           1.122516e+18   \n",
       "7  <a href=\"http://twitter.com/download/android\" ...           1.202779e+18   \n",
       "8  <a href=\"http://twitter.com/download/iphone\" r...                    NaN   \n",
       "9  <a href=\"http://twitter.com/download/iphone\" r...                    NaN   \n",
       "\n",
       "   in_reply_to_status_id_str  ...  favorite_count  favorited retweeted lang  \\\n",
       "0                        NaN  ...              15      False     False   pt   \n",
       "1                        NaN  ...           31618      False     False   pt   \n",
       "2                        NaN  ...           46637      False     False   pt   \n",
       "3                        NaN  ...           56322      False     False   pt   \n",
       "4                        NaN  ...            7147      False     False   pt   \n",
       "5                        NaN  ...              18      False     False   pt   \n",
       "6               1.122516e+18  ...           27994      False     False   pt   \n",
       "7               1.202779e+18  ...            1076      False     False  und   \n",
       "8                        NaN  ...            6579      False     False   pt   \n",
       "9                        NaN  ...            1365      False     False   pt   \n",
       "\n",
       "                                   extended_entities  possibly_sensitive  \\\n",
       "0                                                NaN                 NaN   \n",
       "1  {'media': [{'id': 1083318121841262592, 'id_str...                 0.0   \n",
       "2  {'media': [{'id': 1152036204247953408, 'id_str...                 0.0   \n",
       "3  {'media': [{'id': 1049489244387983360, 'id_str...                 0.0   \n",
       "4                                                NaN                 NaN   \n",
       "5                                                NaN                 0.0   \n",
       "6                                                NaN                 NaN   \n",
       "7                                                NaN                 NaN   \n",
       "8  {'media': [{'id': 1027514259696218112, 'id_str...                 0.0   \n",
       "9  {'media': [{'id': 737061123044847617, 'id_str'...                 0.0   \n",
       "\n",
       "  quoted_status_id  quoted_status_id_str  quoted_status_permalink  \\\n",
       "0              NaN                   NaN                      NaN   \n",
       "1              NaN                   NaN                      NaN   \n",
       "2              NaN                   NaN                      NaN   \n",
       "3              NaN                   NaN                      NaN   \n",
       "4              NaN                   NaN                      NaN   \n",
       "5              NaN                   NaN                      NaN   \n",
       "6              NaN                   NaN                      NaN   \n",
       "7              NaN                   NaN                      NaN   \n",
       "8              NaN                   NaN                      NaN   \n",
       "9              NaN                   NaN                      NaN   \n",
       "\n",
       "   quoted_status  \n",
       "0            NaN  \n",
       "1            NaN  \n",
       "2            NaN  \n",
       "3            NaN  \n",
       "4            NaN  \n",
       "5            NaN  \n",
       "6            NaN  \n",
       "7            NaN  \n",
       "8            NaN  \n",
       "9            NaN  \n",
       "\n",
       "[10 rows x 30 columns]"
      ]
     },
     "execution_count": 771,
     "metadata": {},
     "output_type": "execute_result"
    }
   ],
   "source": [
    "# listando as 5 primeiras linhas do dataset bolsonaro_tweets\n",
    "bolsonaro_tweets.head(10)"
   ]
  },
  {
   "cell_type": "markdown",
   "id": "31239347",
   "metadata": {},
   "source": [
    "__Qualidade__\n",
    "\n",
    "- coluna `in_reply_to_status_id` contém dados nulos.\n",
    "- coluna `in_reply_to_status_id_str` contém dados nulos.\n",
    "- coluna `extended_entities` contém dados nulos.\n",
    "- coluna `possibly_sensitive` contém dados nulos. \n",
    "- coluna `quoted_status_id` contém dados nulos.\n",
    "- coluna `quoted_status_id_str` contém dados nulos.\n",
    "- coluna `quoted_status_permalink` contém dados nulos.\n",
    "- coluna `quoted_status` contém dados nulos.\n",
    "- dados da coluna `full_text` contém emojis.\n",
    "\n",
    "__Estrutura__\n",
    "\n",
    "- coluna `created_at` contém duas variáveis (data e hora).\n"
   ]
  },
  {
   "cell_type": "code",
   "execution_count": 772,
   "id": "12f2fe9f",
   "metadata": {
    "scrolled": true
   },
   "outputs": [
    {
     "name": "stdout",
     "output_type": "stream",
     "text": [
      "<class 'pandas.core.frame.DataFrame'>\n",
      "RangeIndex: 6794 entries, 0 to 6793\n",
      "Data columns (total 30 columns):\n",
      " #   Column                     Non-Null Count  Dtype              \n",
      "---  ------                     --------------  -----              \n",
      " 0   created_at                 6794 non-null   datetime64[ns, UTC]\n",
      " 1   id                         6794 non-null   int64              \n",
      " 2   id_str                     6794 non-null   int64              \n",
      " 3   full_text                  6794 non-null   object             \n",
      " 4   truncated                  6794 non-null   bool               \n",
      " 5   display_text_range         6794 non-null   object             \n",
      " 6   entities                   6794 non-null   object             \n",
      " 7   source                     6794 non-null   object             \n",
      " 8   in_reply_to_status_id      896 non-null    float64            \n",
      " 9   in_reply_to_status_id_str  896 non-null    float64            \n",
      " 10  in_reply_to_user_id        938 non-null    float64            \n",
      " 11  in_reply_to_user_id_str    938 non-null    float64            \n",
      " 12  in_reply_to_screen_name    938 non-null    object             \n",
      " 13  user                       6794 non-null   object             \n",
      " 14  geo                        0 non-null      float64            \n",
      " 15  coordinates                0 non-null      float64            \n",
      " 16  place                      6 non-null      object             \n",
      " 17  contributors               0 non-null      float64            \n",
      " 18  is_quote_status            6794 non-null   bool               \n",
      " 19  retweet_count              6794 non-null   int64              \n",
      " 20  favorite_count             6794 non-null   int64              \n",
      " 21  favorited                  6794 non-null   bool               \n",
      " 22  retweeted                  6794 non-null   bool               \n",
      " 23  lang                       6794 non-null   object             \n",
      " 24  extended_entities          2605 non-null   object             \n",
      " 25  possibly_sensitive         4840 non-null   float64            \n",
      " 26  quoted_status_id           511 non-null    float64            \n",
      " 27  quoted_status_id_str       511 non-null    float64            \n",
      " 28  quoted_status_permalink    511 non-null    object             \n",
      " 29  quoted_status              510 non-null    object             \n",
      "dtypes: bool(4), datetime64[ns, UTC](1), float64(10), int64(4), object(11)\n",
      "memory usage: 1.4+ MB\n"
     ]
    }
   ],
   "source": [
    "# exibindo informações do dataset bolsonaro_tweets\n",
    "bolsonaro_tweets.info()"
   ]
  },
  {
   "cell_type": "markdown",
   "id": "58b1d636",
   "metadata": {},
   "source": [
    "__Qualidade__\n",
    "\n",
    "- coluna `in_reply_to_status_id` contém dados nulos.\n",
    "- coluna `in_reply_to_status_id_str` contém dados nulos.\n",
    "- coluna `in_reply_to_user_id` contém dados nulos.\n",
    "- coluna `in_reply_to_user_id_str` contém dados nulos.\n",
    "- coluna `in_reply_to_screen_name` contém dados nulos.\n",
    "- coluna `possibly_sensitive` contém dados nulos.\n",
    "- coluna `source` só necessita do conteúdo dentro da tag.\n",
    "- coluna `full_text` contém emojis.\n",
    "\n",
    "\n",
    "__Estrutura__\n",
    "\n",
    "- coluna `created_at` contém duas variáveis (data e hora).\n",
    "- coluna `quoted_status_id` é desnecessária para o objetivo do projeto.\n",
    "- coluna `quoted_status_id_str` é desnecessária para o objetivo do projeto.\n",
    "- coluna `quoted_status_permalink` é desnecessária para o objetivo do projeto.\n",
    "- coluna `quoted_status` é desnecessária para o objetivo do projeto.\n",
    "- coluna `favorited` é desnecessária para o objetivo do projeto.\n",
    "- coluna `retweeted` é desnecessária para o objetivo do projeto.\n",
    "- coluna `extended_entities` é desnecessária para o objetivo do projeto.\n",
    "- coluna `possibly_sensitive` é desnecessária para o objetivo do projeto.\n",
    "- coluna `user` é desnecessária para o objetivo do projeto.\n",
    "- coluna `geo` é desnecessária para o objetivo do projeto.\n",
    "- coluna `coordinates` é desnecessária para o objetivo do projeto.\n",
    "- coluna `place` é desnecessária para o objetivo do projeto.\n",
    "- coluna `contributors` é desnecessária para o objetivo do projeto.\n",
    "- coluna `is_quote_status` é desnecessária para o objetivo do projeto.\n",
    "- coluna `entities` é desnecessária para o objetivo do projeto.\n",
    "- coluna `in_reply_to_status_id` é desnecessária para o objetivo do projeto e tem valores nulos.\n",
    "- coluna `in_reply_to_status_id_str` é desnecessária para o objetivo do projeto e tem valores nulos.\n",
    "- coluna `in_reply_to_user_id` é desnecessária para o objetivo do projeto e tem valores nulos.\n",
    "- coluna `in_reply_to_user_id_str` é desnecessária para o objetivo do projeto e tem valores nulos.\n",
    "- coluna `id_str` é desnecessária para o objetivo do projeto.\n",
    "- coluna `truncated` é desnecessária para o objetivo do projeto.\n",
    "- coluna `display_text_range` é desnecessária para o objetivo do projeto."
   ]
  },
  {
   "cell_type": "markdown",
   "id": "748648f3",
   "metadata": {},
   "source": [
    "# Limpeza"
   ]
  },
  {
   "cell_type": "code",
   "execution_count": 773,
   "id": "8a13f843",
   "metadata": {},
   "outputs": [],
   "source": [
    "bolsonaro_tweets.drop('quoted_status_id', inplace=True, axis=1)"
   ]
  },
  {
   "cell_type": "markdown",
   "id": "48df0ec1",
   "metadata": {},
   "source": [
    "coluna `quoted_status_id` é desnecessária para o objetivo do projeto."
   ]
  },
  {
   "cell_type": "code",
   "execution_count": 774,
   "id": "b1cabe20",
   "metadata": {},
   "outputs": [],
   "source": [
    "bolsonaro_tweets.drop('quoted_status_id_str', inplace=True, axis=1)"
   ]
  },
  {
   "cell_type": "markdown",
   "id": "190f4f5e",
   "metadata": {},
   "source": [
    "coluna `quoted_status_id_str` é desnecessária para o objetivo do projeto."
   ]
  },
  {
   "cell_type": "code",
   "execution_count": 775,
   "id": "1e9c13a0",
   "metadata": {},
   "outputs": [],
   "source": [
    "bolsonaro_tweets.drop('quoted_status_permalink', inplace=True, axis=1)"
   ]
  },
  {
   "cell_type": "markdown",
   "id": "d884b2b3",
   "metadata": {},
   "source": [
    "coluna `quoted_status_permalink` é desnecessária para o objetivo do projeto."
   ]
  },
  {
   "cell_type": "code",
   "execution_count": 776,
   "id": "e54e6ca7",
   "metadata": {},
   "outputs": [],
   "source": [
    "bolsonaro_tweets.drop('quoted_status', inplace=True, axis=1)"
   ]
  },
  {
   "cell_type": "markdown",
   "id": "9ea60094",
   "metadata": {},
   "source": [
    "coluna `quoted_status` é desnecessária para o objetivo do projeto."
   ]
  },
  {
   "cell_type": "code",
   "execution_count": 777,
   "id": "d465e7a8",
   "metadata": {},
   "outputs": [],
   "source": [
    "bolsonaro_tweets.drop('favorited', inplace=True, axis=1)"
   ]
  },
  {
   "cell_type": "markdown",
   "id": "fb99c45a",
   "metadata": {},
   "source": [
    "coluna `favorited` é desnecessária para o objetivo do projeto."
   ]
  },
  {
   "cell_type": "code",
   "execution_count": 778,
   "id": "93f71b68",
   "metadata": {},
   "outputs": [],
   "source": [
    "bolsonaro_tweets.drop('retweeted', inplace=True, axis=1)"
   ]
  },
  {
   "cell_type": "markdown",
   "id": "08d988dc",
   "metadata": {},
   "source": [
    "coluna `retweeted` é desnecessária para o objetivo do projeto."
   ]
  },
  {
   "cell_type": "code",
   "execution_count": 779,
   "id": "ffc86e8b",
   "metadata": {},
   "outputs": [],
   "source": [
    "bolsonaro_tweets.drop('extended_entities', inplace=True, axis=1)"
   ]
  },
  {
   "cell_type": "markdown",
   "id": "3c387d2a",
   "metadata": {},
   "source": [
    "coluna `extended_entities` é desnecessária para o objetivo do projeto."
   ]
  },
  {
   "cell_type": "code",
   "execution_count": 780,
   "id": "5548f373",
   "metadata": {},
   "outputs": [],
   "source": [
    "bolsonaro_tweets.drop('possibly_sensitive', inplace=True, axis=1)"
   ]
  },
  {
   "cell_type": "markdown",
   "id": "a76cc069",
   "metadata": {},
   "source": [
    "coluna `possibly_sensitive` é desnecessária para o objetivo do projeto."
   ]
  },
  {
   "cell_type": "code",
   "execution_count": 781,
   "id": "e82bc32a",
   "metadata": {},
   "outputs": [],
   "source": [
    "bolsonaro_tweets.drop('user', inplace=True, axis=1)"
   ]
  },
  {
   "cell_type": "markdown",
   "id": "93bafc07",
   "metadata": {},
   "source": [
    "coluna `user` é desnecessária para o objetivo do projeto."
   ]
  },
  {
   "cell_type": "code",
   "execution_count": 782,
   "id": "b71491ea",
   "metadata": {},
   "outputs": [],
   "source": [
    "bolsonaro_tweets.drop('geo', inplace=True, axis=1)"
   ]
  },
  {
   "cell_type": "markdown",
   "id": "a8bddd63",
   "metadata": {},
   "source": [
    "coluna `geo` é desnecessária para o objetivo do projeto."
   ]
  },
  {
   "cell_type": "code",
   "execution_count": 783,
   "id": "f68b039a",
   "metadata": {},
   "outputs": [],
   "source": [
    "bolsonaro_tweets.drop('coordinates', inplace=True, axis=1)"
   ]
  },
  {
   "cell_type": "markdown",
   "id": "158ca383",
   "metadata": {},
   "source": [
    "coluna `coordinates` é desnecessária para o objetivo do projeto."
   ]
  },
  {
   "cell_type": "code",
   "execution_count": 784,
   "id": "815bb0e3",
   "metadata": {},
   "outputs": [],
   "source": [
    "bolsonaro_tweets.drop('place', inplace=True, axis=1)"
   ]
  },
  {
   "cell_type": "markdown",
   "id": "c080c9f3",
   "metadata": {},
   "source": [
    "coluna `place` é desnecessária para o objetivo do projeto."
   ]
  },
  {
   "cell_type": "code",
   "execution_count": 785,
   "id": "9a1e46f8",
   "metadata": {},
   "outputs": [],
   "source": [
    "bolsonaro_tweets.drop('contributors', inplace=True, axis=1)"
   ]
  },
  {
   "cell_type": "markdown",
   "id": "f64095f0",
   "metadata": {},
   "source": [
    "coluna `contributors` é desnecessária para o objetivo do projeto."
   ]
  },
  {
   "cell_type": "code",
   "execution_count": 786,
   "id": "6a1d2498",
   "metadata": {},
   "outputs": [],
   "source": [
    "bolsonaro_tweets.drop('is_quote_status', inplace=True, axis=1)"
   ]
  },
  {
   "cell_type": "markdown",
   "id": "569b355f",
   "metadata": {},
   "source": [
    "coluna `is_quote_status` é desnecessária para o objetivo do projeto."
   ]
  },
  {
   "cell_type": "code",
   "execution_count": 787,
   "id": "bdae9296",
   "metadata": {},
   "outputs": [],
   "source": [
    "bolsonaro_tweets.drop('entities', inplace=True, axis=1)"
   ]
  },
  {
   "cell_type": "markdown",
   "id": "7a15f184",
   "metadata": {},
   "source": [
    "coluna `entities` é desnecessária para o objetivo do projeto."
   ]
  },
  {
   "cell_type": "code",
   "execution_count": 788,
   "id": "79b1890c",
   "metadata": {},
   "outputs": [],
   "source": [
    "bolsonaro_tweets.drop('in_reply_to_status_id', inplace=True, axis=1)"
   ]
  },
  {
   "cell_type": "markdown",
   "id": "529e53ea",
   "metadata": {},
   "source": [
    "coluna `in_reply_to_status_id` é desnecessária para o objetivo do projeto e tem valores nulos."
   ]
  },
  {
   "cell_type": "code",
   "execution_count": 789,
   "id": "ff2f3620",
   "metadata": {},
   "outputs": [],
   "source": [
    "bolsonaro_tweets.drop('in_reply_to_status_id_str', inplace=True, axis=1)"
   ]
  },
  {
   "cell_type": "markdown",
   "id": "b6e537c6",
   "metadata": {},
   "source": [
    "coluna `in_reply_to_status_id_str` é desnecessária para o objetivo do projeto e tem valores nulos."
   ]
  },
  {
   "cell_type": "code",
   "execution_count": 790,
   "id": "bb8d50c1",
   "metadata": {},
   "outputs": [],
   "source": [
    "bolsonaro_tweets.drop('in_reply_to_user_id', inplace=True, axis=1)"
   ]
  },
  {
   "cell_type": "markdown",
   "id": "e4b7918f",
   "metadata": {},
   "source": [
    "coluna `in_reply_to_user_id` é desnecessária para o objetivo do projeto e tem valores nulos."
   ]
  },
  {
   "cell_type": "code",
   "execution_count": 791,
   "id": "8e443e20",
   "metadata": {},
   "outputs": [],
   "source": [
    "bolsonaro_tweets.drop('in_reply_to_user_id_str', inplace=True, axis=1)"
   ]
  },
  {
   "cell_type": "markdown",
   "id": "b96b3ee6",
   "metadata": {},
   "source": [
    "coluna `in_reply_to_user_id_str` é desnecessária para o objetivo do projeto e tem valores nulos."
   ]
  },
  {
   "cell_type": "code",
   "execution_count": 792,
   "id": "89e6cd7c",
   "metadata": {},
   "outputs": [],
   "source": [
    "bolsonaro_tweets.drop('id_str', inplace=True, axis=1)"
   ]
  },
  {
   "cell_type": "markdown",
   "id": "04c07f6c",
   "metadata": {},
   "source": [
    "coluna `id_str` é desnecessária para o objetivo do projeto."
   ]
  },
  {
   "cell_type": "code",
   "execution_count": 793,
   "id": "16648762",
   "metadata": {},
   "outputs": [],
   "source": [
    "bolsonaro_tweets.drop('truncated', inplace=True, axis=1)"
   ]
  },
  {
   "cell_type": "markdown",
   "id": "cba6db3f",
   "metadata": {},
   "source": [
    "coluna `truncated` é desnecessária para o objetivo do projeto."
   ]
  },
  {
   "cell_type": "code",
   "execution_count": 794,
   "id": "ac8f89bf",
   "metadata": {},
   "outputs": [],
   "source": [
    "bolsonaro_tweets.drop('display_text_range', inplace=True, axis=1)"
   ]
  },
  {
   "cell_type": "markdown",
   "id": "2b0281f6",
   "metadata": {},
   "source": [
    "coluna `display_text_range` é desnecessária para o objetivo do projeto."
   ]
  },
  {
   "cell_type": "code",
   "execution_count": 795,
   "id": "979e82dd",
   "metadata": {},
   "outputs": [],
   "source": [
    "# extraindo a data da coluna created_at e adicionando a uma nova series chamada dates\n",
    "bolsonaro_tweets['dates'] = bolsonaro_tweets['created_at'].dt.date"
   ]
  },
  {
   "cell_type": "code",
   "execution_count": 796,
   "id": "a684881b",
   "metadata": {},
   "outputs": [],
   "source": [
    "# extraindo a hora da coluna created_at e adicionando a uma nova series chamada times\n",
    "bolsonaro_tweets['times'] = bolsonaro_tweets['created_at'].dt.time"
   ]
  },
  {
   "cell_type": "code",
   "execution_count": 797,
   "id": "bc6ee0cf",
   "metadata": {},
   "outputs": [],
   "source": [
    "# deletando coluna created_at\n",
    "bolsonaro_tweets.drop('created_at', inplace=True, axis=1)"
   ]
  },
  {
   "cell_type": "markdown",
   "id": "432e0c15",
   "metadata": {},
   "source": [
    "coluna `created_at` contém duas variáveis (data e hora)."
   ]
  },
  {
   "cell_type": "code",
   "execution_count": 798,
   "id": "432465e9",
   "metadata": {},
   "outputs": [],
   "source": [
    "# substituindo valores ausentes na coluna in_reply_to_screen_name pelo valor 'Ausente'\n",
    "bolsonaro_tweets['in_reply_to_screen_name'].fillna('Ausente', inplace=True)"
   ]
  },
  {
   "cell_type": "markdown",
   "id": "3a05126e",
   "metadata": {},
   "source": [
    "coluna `in_reply_to_screen_name` contém dados nulos."
   ]
  },
  {
   "cell_type": "code",
   "execution_count": 799,
   "id": "2c52475f",
   "metadata": {},
   "outputs": [],
   "source": [
    "for index, valor in bolsonaro_tweets['source'].items():\n",
    "    \n",
    "    if valor.find('android') > -1:\n",
    "        bolsonaro_tweets.iloc[index, 2] = 'android'\n",
    "    \n",
    "    if valor.find('iphone') > -1:\n",
    "        bolsonaro_tweets.iloc[index, 2] = 'iphone'\n",
    "        \n",
    "    if valor.find('Web Client') > -1: \n",
    "        bolsonaro_tweets.iloc[index, 2] = 'client_web'\n",
    "    \n",
    "    if valor.find('Twitter Web App') > -1: \n",
    "        bolsonaro_tweets.iloc[index, 2] = 'web_app'\n",
    "        \n",
    "    if valor.find('Twitter for iPad') > -1: \n",
    "        bolsonaro_tweets.iloc[index, 2] = 'ipad'\n",
    "        \n",
    "    if valor.find('Facebook') > -1: \n",
    "        bolsonaro_tweets.iloc[index, 2] = 'facebook'\n",
    "        \n",
    "    if valor.find('Hootsuite') > -1: \n",
    "        bolsonaro_tweets.iloc[index, 2] = 'hoot_suite'\n",
    "        \n",
    "    if valor.find('PicBadges') > -1: \n",
    "        bolsonaro_tweets.iloc[index, 2] = 'pic_badges'\n",
    "        \n",
    "    if valor.find('TweetDeck') > -1: \n",
    "        bolsonaro_tweets.iloc[index, 2] = 'tweet_deck'\n",
    "        \n",
    "    if valor.find('tvoto') > -1:\n",
    "        bolsonaro_tweets.iloc[index, 2] = 'tvoto'"
   ]
  },
  {
   "cell_type": "markdown",
   "id": "2482cd2a",
   "metadata": {},
   "source": [
    "coluna `source` só necessita do conteúdo dentro da tag."
   ]
  },
  {
   "cell_type": "code",
   "execution_count": 800,
   "id": "25886d3b",
   "metadata": {},
   "outputs": [],
   "source": [
    "# deletando coluna source\n",
    "bolsonaro_tweets.drop('source', inplace=True, axis=1)"
   ]
  },
  {
   "cell_type": "markdown",
   "id": "b5a0d1ed",
   "metadata": {},
   "source": [
    "coluna `source` é desnecessária para o objetivo do projeto"
   ]
  },
  {
   "cell_type": "code",
   "execution_count": 801,
   "id": "5b96fe59",
   "metadata": {},
   "outputs": [],
   "source": [
    "bolsonaro_tweets.drop('in_reply_to_screen_name', inplace=True, axis=1)"
   ]
  },
  {
   "cell_type": "markdown",
   "id": "0c298067",
   "metadata": {},
   "source": [
    "coluna `in_reply_to_screen_name` é desnecessária para o objetivo do projeto"
   ]
  },
  {
   "cell_type": "code",
   "execution_count": 802,
   "id": "0b812fcc",
   "metadata": {},
   "outputs": [],
   "source": [
    "# importando biblioteca re para trabalhar com expressões regulares.\n",
    "import re"
   ]
  },
  {
   "cell_type": "code",
   "execution_count": 803,
   "id": "491aee5a",
   "metadata": {
    "scrolled": true
   },
   "outputs": [],
   "source": [
    "# função responsável por remover urls de um tweet \n",
    "\n",
    "def remover_urls(s):\n",
    "    s = re.sub(r'http\\S+', '', s)\n",
    "    return s"
   ]
  },
  {
   "cell_type": "code",
   "execution_count": 804,
   "id": "5e69e962",
   "metadata": {},
   "outputs": [],
   "source": [
    "bolsonaro_tweets['full_text'] = bolsonaro_tweets['full_text'].apply(remover_urls)"
   ]
  },
  {
   "cell_type": "markdown",
   "id": "5c5be91a",
   "metadata": {},
   "source": [
    "removendo urls dos valores das colunas `full_text`"
   ]
  },
  {
   "cell_type": "code",
   "execution_count": 805,
   "id": "fbfaa8ed",
   "metadata": {},
   "outputs": [],
   "source": [
    "# função responsável por remover menções de um tweet\n",
    "\n",
    "def remover_mentions(s):\n",
    "    s = re.sub(r'@\\S+', '', s)\n",
    "    return s"
   ]
  },
  {
   "cell_type": "code",
   "execution_count": 806,
   "id": "4d2cfac6",
   "metadata": {},
   "outputs": [],
   "source": [
    "bolsonaro_tweets['full_text'] = bolsonaro_tweets['full_text'].apply(remover_mentions)"
   ]
  },
  {
   "cell_type": "markdown",
   "id": "46a9874a",
   "metadata": {},
   "source": [
    "removendo menções (@algumacoisa) dos valores das colunas `full_text`"
   ]
  },
  {
   "cell_type": "code",
   "execution_count": 807,
   "id": "31172cca",
   "metadata": {},
   "outputs": [],
   "source": [
    "# função responsável por remover hashtags de um tweet\n",
    "\n",
    "def remover_hashtags(s):\n",
    "    s = re.sub(r'#\\S+', '', s)\n",
    "    return s"
   ]
  },
  {
   "cell_type": "code",
   "execution_count": 808,
   "id": "cdb845fd",
   "metadata": {},
   "outputs": [],
   "source": [
    "bolsonaro_tweets['full_text'].replace(regex=r'#|@|%', value=' ', inplace=True)"
   ]
  },
  {
   "cell_type": "code",
   "execution_count": 809,
   "id": "0642d637",
   "metadata": {},
   "outputs": [],
   "source": [
    "bolsonaro_tweets['full_text'] = bolsonaro_tweets['full_text'].apply(remover_hashtags)"
   ]
  },
  {
   "cell_type": "markdown",
   "id": "f59b1959",
   "metadata": {},
   "source": [
    "removendo hashtags dos valores das colunas `full_text`"
   ]
  },
  {
   "cell_type": "code",
   "execution_count": 810,
   "id": "e6947482",
   "metadata": {},
   "outputs": [],
   "source": [
    "bolsonaro_tweets['full_text'].replace(regex=r'\"|“|,', value=' ', inplace=True)"
   ]
  },
  {
   "cell_type": "markdown",
   "id": "bd9e2338",
   "metadata": {},
   "source": [
    "removendo asplas duplas dos valores da coluna `full_text`"
   ]
  },
  {
   "cell_type": "code",
   "execution_count": 811,
   "id": "d974c957",
   "metadata": {},
   "outputs": [],
   "source": [
    "bolsonaro_tweets['full_text'].replace(regex=r'[0-9]', value=' ', inplace=True)"
   ]
  },
  {
   "cell_type": "markdown",
   "id": "bbc12d2a",
   "metadata": {},
   "source": [
    "removendo números dos valores da coluna `full_text`"
   ]
  },
  {
   "cell_type": "code",
   "execution_count": 888,
   "id": "7701dd81",
   "metadata": {},
   "outputs": [],
   "source": [
    "# criando uma lista de Stopwords para limpar os tweets. Fonte: https://gist.github.com/alopes/5358189#file-stopwords-txt\n",
    "arquivo = open(\"stopwords.txt\", encoding=\"utf-8\", mode=\"r\")\n",
    "\n",
    "# criando uma lista\n",
    "stopwords = []\n",
    "\n",
    "# percorrendo cada palavra do arquivo stopwords e adicionando na lista stopwords.\n",
    "for linha in arquivo:\n",
    "    palavra = linha.strip()\n",
    "    stopwords.append(palavra.lower())\n",
    "    \n",
    "# liberando arquivo\n",
    "arquivo.close()"
   ]
  },
  {
   "cell_type": "markdown",
   "id": "bcecc81d",
   "metadata": {},
   "source": [
    " criando uma lista de Stopwords para limpar os tweets."
   ]
  },
  {
   "cell_type": "code",
   "execution_count": 889,
   "id": "36b1cda6",
   "metadata": {},
   "outputs": [],
   "source": [
    "# separando cada palavra de cada twitter do bolsonaro e adicionando em uma lista\n",
    "\n",
    "lista_palavras_bolsonaro = []\n",
    "\n",
    "for palavra in bolsonaro_tweets['full_text']:\n",
    "    lista = palavra.split()\n",
    "    \n",
    "    for item in lista:\n",
    "        lista_palavras_bolsonaro.append(item.lower())"
   ]
  },
  {
   "cell_type": "markdown",
   "id": "8ddcd8fc",
   "metadata": {},
   "source": [
    "separando cada palavra de cada twitter do bolsonaro e adicionando em uma lista"
   ]
  },
  {
   "cell_type": "code",
   "execution_count": 890,
   "id": "b52fe5e8",
   "metadata": {},
   "outputs": [],
   "source": [
    "# removendo stopwords da lista de palavras do bolsonaro\n",
    "nova_lista_palavras_bolsonaro = []\n",
    "\n",
    "for palavra in lista_palavras_bolsonaro:\n",
    "    \n",
    "    if palavra not in stopwords:\n",
    "        nova_lista_palavras_bolsonaro.append(palavra)\n",
    "        \n",
    "lista_palavras_bolsonaro = nova_lista_palavras_bolsonaro"
   ]
  },
  {
   "cell_type": "markdown",
   "id": "fba3cb53",
   "metadata": {},
   "source": [
    " removendo stopwords da lista de palavras do bolsonaro"
   ]
  },
  {
   "cell_type": "code",
   "execution_count": 891,
   "id": "70463cbd",
   "metadata": {},
   "outputs": [],
   "source": [
    "# contando a frequência de cada palavra nos twitters do bolsonaro\n",
    "\n",
    "from collections import Counter\n",
    "\n",
    "bolsonaro_dict = Counter( lista_palavras_bolsonaro )"
   ]
  },
  {
   "cell_type": "markdown",
   "id": "84dbe1c1",
   "metadata": {},
   "source": [
    "contando a frequência de cada palavra nos twitters do bolsonaro"
   ]
  },
  {
   "cell_type": "code",
   "execution_count": 892,
   "id": "89170ec3",
   "metadata": {},
   "outputs": [],
   "source": [
    "# criando um dataframe de palavras e suas frequências com base nos twitters do bolsonaro\n",
    "df_bolsonaro = pd.DataFrame(list(bolsonaro_dict.items()))\n",
    "\n",
    "# adicionando um cabeçalho ao df_bolsonaro\n",
    "df_bolsonaro.columns = ['palavra', 'frequência']"
   ]
  },
  {
   "cell_type": "markdown",
   "id": "26b8bd4f",
   "metadata": {},
   "source": [
    "criando um dataframe de palavras e suas frequências com base nos twitters do bolsonaro"
   ]
  },
  {
   "cell_type": "code",
   "execution_count": 893,
   "id": "5eff74b6",
   "metadata": {},
   "outputs": [],
   "source": [
    "# criando uma função responsável por calcular o percentual da frequência sobre a frequência total\n",
    "\n",
    "# total da frequência das palavras oriundas dos twitters do lula\n",
    "total_freq_bolsonaro = sum( df_bolsonaro['frequência'] )\n",
    "\n",
    "def percentual_frequencia_bolsonaro(frequencia):\n",
    "    percentual = frequencia / total_freq_bolsonaro\n",
    "    return percentual * 100"
   ]
  },
  {
   "cell_type": "code",
   "execution_count": 894,
   "id": "a1d36b30",
   "metadata": {},
   "outputs": [],
   "source": [
    "# criando uma coluna responsável por armazenar o percentual da frequência\n",
    "df_bolsonaro['percentual'] = df_bolsonaro['frequência'].apply(percentual_frequencia_bolsonaro)"
   ]
  },
  {
   "cell_type": "code",
   "execution_count": 895,
   "id": "b6e82f29",
   "metadata": {},
   "outputs": [],
   "source": [
    "# exportando as alterações do dataframe bolsonaro_tweets para um novo arquivo\n",
    "bolsonaro_tweets.to_json('jairbolsonaro_v2.json')"
   ]
  },
  {
   "cell_type": "markdown",
   "id": "9cec88e8",
   "metadata": {},
   "source": [
    "## Tweets Lula\n",
    "\n",
    "<br><br>"
   ]
  },
  {
   "cell_type": "code",
   "execution_count": 820,
   "id": "cdc2e7e0",
   "metadata": {},
   "outputs": [],
   "source": [
    "# importandos um arquivo no formato json.\n",
    "lula_tweets = pd.read_json('LulaOficial.json')"
   ]
  },
  {
   "cell_type": "markdown",
   "id": "2ed2c8d0",
   "metadata": {},
   "source": [
    "### Avaliação"
   ]
  },
  {
   "cell_type": "code",
   "execution_count": 821,
   "id": "ac8ef24d",
   "metadata": {},
   "outputs": [
    {
     "data": {
      "text/html": [
       "<div>\n",
       "<style scoped>\n",
       "    .dataframe tbody tr th:only-of-type {\n",
       "        vertical-align: middle;\n",
       "    }\n",
       "\n",
       "    .dataframe tbody tr th {\n",
       "        vertical-align: top;\n",
       "    }\n",
       "\n",
       "    .dataframe thead th {\n",
       "        text-align: right;\n",
       "    }\n",
       "</style>\n",
       "<table border=\"1\" class=\"dataframe\">\n",
       "  <thead>\n",
       "    <tr style=\"text-align: right;\">\n",
       "      <th></th>\n",
       "      <th>created_at</th>\n",
       "      <th>id</th>\n",
       "      <th>id_str</th>\n",
       "      <th>full_text</th>\n",
       "      <th>truncated</th>\n",
       "      <th>display_text_range</th>\n",
       "      <th>entities</th>\n",
       "      <th>source</th>\n",
       "      <th>in_reply_to_status_id</th>\n",
       "      <th>in_reply_to_status_id_str</th>\n",
       "      <th>...</th>\n",
       "      <th>favorite_count</th>\n",
       "      <th>favorited</th>\n",
       "      <th>retweeted</th>\n",
       "      <th>lang</th>\n",
       "      <th>extended_entities</th>\n",
       "      <th>possibly_sensitive</th>\n",
       "      <th>quoted_status_id</th>\n",
       "      <th>quoted_status_id_str</th>\n",
       "      <th>quoted_status_permalink</th>\n",
       "      <th>quoted_status</th>\n",
       "    </tr>\n",
       "  </thead>\n",
       "  <tbody>\n",
       "    <tr>\n",
       "      <th>0</th>\n",
       "      <td>2018-08-17 16:23:04+00:00</td>\n",
       "      <td>1030490201460801541</td>\n",
       "      <td>1030490201460801536</td>\n",
       "      <td>\"O presidente Lula vai dar um passeio nessa el...</td>\n",
       "      <td>False</td>\n",
       "      <td>[0, 212]</td>\n",
       "      <td>{'hashtags': [], 'symbols': [], 'user_mentions...</td>\n",
       "      <td>&lt;a href=\"http://twitter.com\" rel=\"nofollow\"&gt;Tw...</td>\n",
       "      <td>NaN</td>\n",
       "      <td>NaN</td>\n",
       "      <td>...</td>\n",
       "      <td>347</td>\n",
       "      <td>False</td>\n",
       "      <td>False</td>\n",
       "      <td>pt</td>\n",
       "      <td>NaN</td>\n",
       "      <td>NaN</td>\n",
       "      <td>NaN</td>\n",
       "      <td>NaN</td>\n",
       "      <td>NaN</td>\n",
       "      <td>NaN</td>\n",
       "    </tr>\n",
       "    <tr>\n",
       "      <th>1</th>\n",
       "      <td>2014-09-16 01:53:02+00:00</td>\n",
       "      <td>511694215735422976</td>\n",
       "      <td>511694215735422976</td>\n",
       "      <td>@dilmabr afirma que aqueles que querem acabar ...</td>\n",
       "      <td>False</td>\n",
       "      <td>[0, 139]</td>\n",
       "      <td>{'hashtags': [], 'symbols': [], 'user_mentions...</td>\n",
       "      <td>&lt;a href=\"http://twitter.com/download/iphone\" r...</td>\n",
       "      <td>NaN</td>\n",
       "      <td>NaN</td>\n",
       "      <td>...</td>\n",
       "      <td>9</td>\n",
       "      <td>False</td>\n",
       "      <td>False</td>\n",
       "      <td>pt</td>\n",
       "      <td>NaN</td>\n",
       "      <td>NaN</td>\n",
       "      <td>NaN</td>\n",
       "      <td>NaN</td>\n",
       "      <td>NaN</td>\n",
       "      <td>NaN</td>\n",
       "    </tr>\n",
       "    <tr>\n",
       "      <th>2</th>\n",
       "      <td>2017-08-08 23:23:49+00:00</td>\n",
       "      <td>895063025996242944</td>\n",
       "      <td>895063025996242944</td>\n",
       "      <td>O PT deu cidadania para as mulheres fazerem po...</td>\n",
       "      <td>False</td>\n",
       "      <td>[0, 95]</td>\n",
       "      <td>{'hashtags': [], 'symbols': [], 'user_mentions...</td>\n",
       "      <td>&lt;a href=\"https://mobile.twitter.com\" rel=\"nofo...</td>\n",
       "      <td>NaN</td>\n",
       "      <td>NaN</td>\n",
       "      <td>...</td>\n",
       "      <td>203</td>\n",
       "      <td>False</td>\n",
       "      <td>False</td>\n",
       "      <td>pt</td>\n",
       "      <td>NaN</td>\n",
       "      <td>NaN</td>\n",
       "      <td>NaN</td>\n",
       "      <td>NaN</td>\n",
       "      <td>NaN</td>\n",
       "      <td>NaN</td>\n",
       "    </tr>\n",
       "    <tr>\n",
       "      <th>3</th>\n",
       "      <td>2017-10-18 11:24:23+00:00</td>\n",
       "      <td>920611514071076865</td>\n",
       "      <td>920611514071076864</td>\n",
       "      <td>Continuo sendo o lulinha paz e a amor. A gente...</td>\n",
       "      <td>False</td>\n",
       "      <td>[0, 108]</td>\n",
       "      <td>{'hashtags': [{'text': 'LulanoRadio', 'indices...</td>\n",
       "      <td>&lt;a href=\"http://twitter.com\" rel=\"nofollow\"&gt;Tw...</td>\n",
       "      <td>NaN</td>\n",
       "      <td>NaN</td>\n",
       "      <td>...</td>\n",
       "      <td>153</td>\n",
       "      <td>False</td>\n",
       "      <td>False</td>\n",
       "      <td>pt</td>\n",
       "      <td>NaN</td>\n",
       "      <td>NaN</td>\n",
       "      <td>NaN</td>\n",
       "      <td>NaN</td>\n",
       "      <td>NaN</td>\n",
       "      <td>NaN</td>\n",
       "    </tr>\n",
       "    <tr>\n",
       "      <th>4</th>\n",
       "      <td>2017-04-24 22:24:18+00:00</td>\n",
       "      <td>856634932764037120</td>\n",
       "      <td>856634932764037120</td>\n",
       "      <td>Olhando as últimas pesquisas, vemos que a únic...</td>\n",
       "      <td>False</td>\n",
       "      <td>[0, 100]</td>\n",
       "      <td>{'hashtags': [], 'symbols': [], 'user_mentions...</td>\n",
       "      <td>&lt;a href=\"http://twitter.com\" rel=\"nofollow\"&gt;Tw...</td>\n",
       "      <td>NaN</td>\n",
       "      <td>NaN</td>\n",
       "      <td>...</td>\n",
       "      <td>168</td>\n",
       "      <td>False</td>\n",
       "      <td>False</td>\n",
       "      <td>pt</td>\n",
       "      <td>NaN</td>\n",
       "      <td>NaN</td>\n",
       "      <td>NaN</td>\n",
       "      <td>NaN</td>\n",
       "      <td>NaN</td>\n",
       "      <td>NaN</td>\n",
       "    </tr>\n",
       "  </tbody>\n",
       "</table>\n",
       "<p>5 rows × 30 columns</p>\n",
       "</div>"
      ],
      "text/plain": [
       "                 created_at                   id               id_str  \\\n",
       "0 2018-08-17 16:23:04+00:00  1030490201460801541  1030490201460801536   \n",
       "1 2014-09-16 01:53:02+00:00   511694215735422976   511694215735422976   \n",
       "2 2017-08-08 23:23:49+00:00   895063025996242944   895063025996242944   \n",
       "3 2017-10-18 11:24:23+00:00   920611514071076865   920611514071076864   \n",
       "4 2017-04-24 22:24:18+00:00   856634932764037120   856634932764037120   \n",
       "\n",
       "                                           full_text  truncated  \\\n",
       "0  \"O presidente Lula vai dar um passeio nessa el...      False   \n",
       "1  @dilmabr afirma que aqueles que querem acabar ...      False   \n",
       "2  O PT deu cidadania para as mulheres fazerem po...      False   \n",
       "3  Continuo sendo o lulinha paz e a amor. A gente...      False   \n",
       "4  Olhando as últimas pesquisas, vemos que a únic...      False   \n",
       "\n",
       "  display_text_range                                           entities  \\\n",
       "0           [0, 212]  {'hashtags': [], 'symbols': [], 'user_mentions...   \n",
       "1           [0, 139]  {'hashtags': [], 'symbols': [], 'user_mentions...   \n",
       "2            [0, 95]  {'hashtags': [], 'symbols': [], 'user_mentions...   \n",
       "3           [0, 108]  {'hashtags': [{'text': 'LulanoRadio', 'indices...   \n",
       "4           [0, 100]  {'hashtags': [], 'symbols': [], 'user_mentions...   \n",
       "\n",
       "                                              source  in_reply_to_status_id  \\\n",
       "0  <a href=\"http://twitter.com\" rel=\"nofollow\">Tw...                    NaN   \n",
       "1  <a href=\"http://twitter.com/download/iphone\" r...                    NaN   \n",
       "2  <a href=\"https://mobile.twitter.com\" rel=\"nofo...                    NaN   \n",
       "3  <a href=\"http://twitter.com\" rel=\"nofollow\">Tw...                    NaN   \n",
       "4  <a href=\"http://twitter.com\" rel=\"nofollow\">Tw...                    NaN   \n",
       "\n",
       "   in_reply_to_status_id_str  ...  favorite_count  favorited retweeted lang  \\\n",
       "0                        NaN  ...             347      False     False   pt   \n",
       "1                        NaN  ...               9      False     False   pt   \n",
       "2                        NaN  ...             203      False     False   pt   \n",
       "3                        NaN  ...             153      False     False   pt   \n",
       "4                        NaN  ...             168      False     False   pt   \n",
       "\n",
       "   extended_entities  possibly_sensitive quoted_status_id  \\\n",
       "0                NaN                 NaN              NaN   \n",
       "1                NaN                 NaN              NaN   \n",
       "2                NaN                 NaN              NaN   \n",
       "3                NaN                 NaN              NaN   \n",
       "4                NaN                 NaN              NaN   \n",
       "\n",
       "   quoted_status_id_str  quoted_status_permalink  quoted_status  \n",
       "0                   NaN                      NaN            NaN  \n",
       "1                   NaN                      NaN            NaN  \n",
       "2                   NaN                      NaN            NaN  \n",
       "3                   NaN                      NaN            NaN  \n",
       "4                   NaN                      NaN            NaN  \n",
       "\n",
       "[5 rows x 30 columns]"
      ]
     },
     "execution_count": 821,
     "metadata": {},
     "output_type": "execute_result"
    }
   ],
   "source": [
    "# exibindo os cinco primeiros registros do dataset\n",
    "lula_tweets.head()"
   ]
  },
  {
   "cell_type": "markdown",
   "id": "14395bdb",
   "metadata": {},
   "source": [
    "__Qualidade__\n",
    "\n",
    "- coluna `full_text` contém emojis e usernames.\n",
    "- coluna `source` só necessita do conteúdo dentro da tag.\n",
    "- coluna `in_reply_to_status_id` contém dados nulos.\n",
    "- coluna `in_reply_to_status_id_str` contém dados nulos.\n",
    "- coluna `extended_entities` contém dados nulos.\n",
    "- coluna `possibly_sensitive` contém dados nulos.\n",
    "- coluna `quoted_status_id` contém dados nulos.\n",
    "- coluna `quoted_status_id_str` contém dados nulos.\n",
    "- coluna `quoted_status_permalink` contém dados nulos.\n",
    "- coluna `quoted_status` contém dados nulos.\n",
    "\n",
    "__Estrutura__\n",
    "\n",
    "- coluna `created_at` contém duas variáveis (data e hora).\n"
   ]
  },
  {
   "cell_type": "code",
   "execution_count": 822,
   "id": "cd6e15ce",
   "metadata": {},
   "outputs": [
    {
     "name": "stdout",
     "output_type": "stream",
     "text": [
      "<class 'pandas.core.frame.DataFrame'>\n",
      "RangeIndex: 14961 entries, 0 to 14960\n",
      "Data columns (total 30 columns):\n",
      " #   Column                     Non-Null Count  Dtype              \n",
      "---  ------                     --------------  -----              \n",
      " 0   created_at                 14961 non-null  datetime64[ns, UTC]\n",
      " 1   id                         14961 non-null  int64              \n",
      " 2   id_str                     14961 non-null  int64              \n",
      " 3   full_text                  14961 non-null  object             \n",
      " 4   truncated                  14961 non-null  bool               \n",
      " 5   display_text_range         14961 non-null  object             \n",
      " 6   entities                   14961 non-null  object             \n",
      " 7   source                     14961 non-null  object             \n",
      " 8   in_reply_to_status_id      321 non-null    float64            \n",
      " 9   in_reply_to_status_id_str  321 non-null    float64            \n",
      " 10  in_reply_to_user_id        388 non-null    float64            \n",
      " 11  in_reply_to_user_id_str    388 non-null    float64            \n",
      " 12  in_reply_to_screen_name    388 non-null    object             \n",
      " 13  user                       14961 non-null  object             \n",
      " 14  geo                        0 non-null      float64            \n",
      " 15  coordinates                0 non-null      float64            \n",
      " 16  place                      1563 non-null   object             \n",
      " 17  contributors               0 non-null      float64            \n",
      " 18  is_quote_status            14961 non-null  bool               \n",
      " 19  retweet_count              14961 non-null  int64              \n",
      " 20  favorite_count             14961 non-null  int64              \n",
      " 21  favorited                  14961 non-null  bool               \n",
      " 22  retweeted                  14961 non-null  bool               \n",
      " 23  lang                       14961 non-null  object             \n",
      " 24  extended_entities          3400 non-null   object             \n",
      " 25  possibly_sensitive         6052 non-null   float64            \n",
      " 26  quoted_status_id           62 non-null     float64            \n",
      " 27  quoted_status_id_str       62 non-null     float64            \n",
      " 28  quoted_status_permalink    62 non-null     object             \n",
      " 29  quoted_status              62 non-null     object             \n",
      "dtypes: bool(4), datetime64[ns, UTC](1), float64(10), int64(4), object(11)\n",
      "memory usage: 3.0+ MB\n"
     ]
    }
   ],
   "source": [
    "# exibindo informações sobre cada coluna do dataset\n",
    "lula_tweets.info()"
   ]
  },
  {
   "cell_type": "markdown",
   "id": "6f52f373",
   "metadata": {},
   "source": [
    "__Qualidade__\n",
    "\n",
    "- coluna  `full_text`  contém emojis, usernames e urls.\n",
    "- coluna `source` só necessita do conteúdo dentro da tag. \n",
    "- coluna  `full_text`  contém aspas duplas em seus valores.\n",
    "\n",
    "__Estrutura__ \n",
    "\n",
    "- coluna  `created_at` contém duas variáveis (data e hora).\n",
    "- coluna `id_str` é desnecessária para o objetivo do projeto. \n",
    "- coluna `truncated` é desnecessária para o objetivo do projeto.\n",
    "- coluna `display_text_range` é desnecessária para o objetivo do projeto.\n",
    "- coluna `entities` é desnecessária para o objetivo do projeto.\n",
    "- coluna `source` é desnecessária para o objetivo do projeto.\n",
    "- coluna `in_reply_to_status_id` é desnecessária para o objetivo do projeto.\n",
    "- coluna `in_reply_to_status_id_str` é desnecessária para o objetivo do projeto.\n",
    "- coluna `in_reply_to_user_id` é desnecessária para o objetivo do projeto.\n",
    "- coluna `in_reply_to_user_id_str` é desnecessária para o objetivo do projeto.\n",
    "- coluna `in_reply_to_screen_name` é desnecessária para o objetivo do projeto.\n",
    "- coluna `user` é desnecessária para o objetivo do projeto.\n",
    "- coluna `geo` é desnecessária para o objetivo do projeto.\n",
    "- coluna `coordinates` é desnecessária para o objetivo do projeto.\n",
    "- coluna `place` é desnecessária para o objetivo do projeto.\n",
    "- coluna `contributors` é desnecessária para o objetivo do projeto.\n",
    "- coluna `is_quote_status` é desnecessária para o objetivo do projeto.\n",
    "- coluna `favorited` é desnecessária para o objetivo do projeto.\n",
    "- coluna `retweeted` é desnecessária para o objetivo do projeto.\n",
    "- coluna `extended_entities` é desnecessária para o objetivo do projeto.\n",
    "- coluna `possibly_sensitive` é desnecessária para o objetivo do projeto.\n",
    "- coluna `quoted_status_id` é desnecessária para o objetivo do projeto.\n",
    "- coluna `quoted_status_id_str` é desnecessária para o objetivo do projeto.\n",
    "- coluna `quoted_status_permalink` é desnecessária para o objetivo do projeto.\n",
    "- coluna `quoted_status` é desnecessária para o objetivo do projeto.\n"
   ]
  },
  {
   "cell_type": "markdown",
   "id": "e905c7f4",
   "metadata": {},
   "source": [
    "## Limpeza"
   ]
  },
  {
   "cell_type": "code",
   "execution_count": 823,
   "id": "fad467e8",
   "metadata": {},
   "outputs": [],
   "source": [
    "lula_tweets.drop('id_str', inplace=True, axis=1)"
   ]
  },
  {
   "cell_type": "markdown",
   "id": "620ea5ae",
   "metadata": {},
   "source": [
    "- coluna `id_str` é desnecessária para o objetivo do projeto."
   ]
  },
  {
   "cell_type": "code",
   "execution_count": 824,
   "id": "716cd23a",
   "metadata": {},
   "outputs": [],
   "source": [
    "lula_tweets.drop('truncated', inplace=True, axis=1)"
   ]
  },
  {
   "cell_type": "markdown",
   "id": "f253c398",
   "metadata": {},
   "source": [
    "- coluna `truncated` é desnecessária para o objetivo do projeto."
   ]
  },
  {
   "cell_type": "code",
   "execution_count": 825,
   "id": "765d42c1",
   "metadata": {},
   "outputs": [],
   "source": [
    "lula_tweets.drop('display_text_range', inplace=True, axis=1)"
   ]
  },
  {
   "cell_type": "markdown",
   "id": "99363c84",
   "metadata": {},
   "source": [
    "- coluna `display_text_range` é desnecessária para o objetivo do projeto."
   ]
  },
  {
   "cell_type": "code",
   "execution_count": 826,
   "id": "32057bde",
   "metadata": {},
   "outputs": [],
   "source": [
    "lula_tweets.drop('entities', inplace=True, axis=1)"
   ]
  },
  {
   "cell_type": "markdown",
   "id": "24bf0989",
   "metadata": {},
   "source": [
    "- coluna `entities` é desnecessária para o objetivo do projeto."
   ]
  },
  {
   "cell_type": "code",
   "execution_count": 827,
   "id": "79930c29",
   "metadata": {},
   "outputs": [],
   "source": [
    "lula_tweets.drop('in_reply_to_status_id', inplace=True, axis=1)"
   ]
  },
  {
   "cell_type": "markdown",
   "id": "87d7fcba",
   "metadata": {},
   "source": [
    "- coluna `in_reply_to_status_id` é desnecessária para o objetivo do projeto."
   ]
  },
  {
   "cell_type": "code",
   "execution_count": 828,
   "id": "0509b38c",
   "metadata": {},
   "outputs": [],
   "source": [
    "lula_tweets.drop('in_reply_to_status_id_str', inplace=True, axis=1)"
   ]
  },
  {
   "cell_type": "markdown",
   "id": "6bde24ac",
   "metadata": {},
   "source": [
    "- coluna `in_reply_to_status_id_str` é desnecessária para o objetivo do projeto."
   ]
  },
  {
   "cell_type": "code",
   "execution_count": 829,
   "id": "f2660f8e",
   "metadata": {},
   "outputs": [],
   "source": [
    "lula_tweets.drop('in_reply_to_user_id', inplace=True, axis=1)"
   ]
  },
  {
   "cell_type": "markdown",
   "id": "dbe1c6de",
   "metadata": {},
   "source": [
    "- coluna `in_reply_to_user_id` é desnecessária para o objetivo do projeto."
   ]
  },
  {
   "cell_type": "code",
   "execution_count": 830,
   "id": "39c7f049",
   "metadata": {},
   "outputs": [],
   "source": [
    "lula_tweets.drop('in_reply_to_user_id_str', inplace=True, axis=1)"
   ]
  },
  {
   "cell_type": "markdown",
   "id": "32f446bc",
   "metadata": {},
   "source": [
    "- coluna `in_reply_to_user_id_str` é desnecessária para o objetivo do projeto."
   ]
  },
  {
   "cell_type": "code",
   "execution_count": 831,
   "id": "7852ba7a",
   "metadata": {},
   "outputs": [],
   "source": [
    "lula_tweets.drop('user', inplace=True, axis=1)"
   ]
  },
  {
   "cell_type": "markdown",
   "id": "9f27484b",
   "metadata": {},
   "source": [
    "- coluna `user` é desnecessária para o objetivo do projeto."
   ]
  },
  {
   "cell_type": "code",
   "execution_count": 832,
   "id": "11079d86",
   "metadata": {},
   "outputs": [],
   "source": [
    "lula_tweets.drop('geo', inplace=True, axis=1)"
   ]
  },
  {
   "cell_type": "markdown",
   "id": "c4b8c2b0",
   "metadata": {},
   "source": [
    "- coluna `geo` é desnecessária para o objetivo do projeto.\n"
   ]
  },
  {
   "cell_type": "code",
   "execution_count": 833,
   "id": "19444c1a",
   "metadata": {},
   "outputs": [],
   "source": [
    "lula_tweets.drop('coordinates', inplace=True, axis=1)"
   ]
  },
  {
   "cell_type": "markdown",
   "id": "6566a9e4",
   "metadata": {},
   "source": [
    "- coluna `coordinates` é desnecessária para o objetivo do projeto.\n"
   ]
  },
  {
   "cell_type": "code",
   "execution_count": 834,
   "id": "ab91cb20",
   "metadata": {},
   "outputs": [],
   "source": [
    "lula_tweets.drop('place', inplace=True, axis=1)"
   ]
  },
  {
   "cell_type": "markdown",
   "id": "b29aa58d",
   "metadata": {},
   "source": [
    "- coluna `place` é desnecessária para o objetivo do projeto."
   ]
  },
  {
   "cell_type": "code",
   "execution_count": 835,
   "id": "dc4f5d49",
   "metadata": {},
   "outputs": [],
   "source": [
    "lula_tweets.drop('contributors', inplace=True, axis=1)"
   ]
  },
  {
   "cell_type": "markdown",
   "id": "8d987853",
   "metadata": {},
   "source": [
    "- coluna `contributors` é desnecessária para o objetivo do projeto."
   ]
  },
  {
   "cell_type": "code",
   "execution_count": 836,
   "id": "805253c5",
   "metadata": {},
   "outputs": [],
   "source": [
    "lula_tweets.drop('is_quote_status', inplace=True, axis=1)"
   ]
  },
  {
   "cell_type": "markdown",
   "id": "095f2c46",
   "metadata": {},
   "source": [
    "- coluna `is_quote_status` é desnecessária para o objetivo do projeto."
   ]
  },
  {
   "cell_type": "code",
   "execution_count": 837,
   "id": "9601566e",
   "metadata": {},
   "outputs": [],
   "source": [
    "lula_tweets.drop('favorited', inplace=True, axis=1)"
   ]
  },
  {
   "cell_type": "markdown",
   "id": "39915589",
   "metadata": {},
   "source": [
    "- coluna `favorited` é desnecessária para o objetivo do projeto."
   ]
  },
  {
   "cell_type": "code",
   "execution_count": 838,
   "id": "28f68b5c",
   "metadata": {},
   "outputs": [],
   "source": [
    "lula_tweets.drop('retweeted', inplace=True, axis=1)"
   ]
  },
  {
   "cell_type": "markdown",
   "id": "82a64eee",
   "metadata": {},
   "source": [
    "- coluna `retweeted` é desnecessária para o objetivo do projeto."
   ]
  },
  {
   "cell_type": "code",
   "execution_count": 839,
   "id": "24e41e65",
   "metadata": {},
   "outputs": [],
   "source": [
    "lula_tweets.drop('extended_entities', inplace=True, axis=1)"
   ]
  },
  {
   "cell_type": "markdown",
   "id": "3d795875",
   "metadata": {},
   "source": [
    "- coluna `extended_entities` é desnecessária para o objetivo do projeto.\n"
   ]
  },
  {
   "cell_type": "code",
   "execution_count": 840,
   "id": "535de3b4",
   "metadata": {},
   "outputs": [],
   "source": [
    "lula_tweets.drop('possibly_sensitive', inplace=True, axis=1)"
   ]
  },
  {
   "cell_type": "markdown",
   "id": "7892436c",
   "metadata": {},
   "source": [
    "- coluna `possibly_sensitive` é desnecessária para o objetivo do projeto."
   ]
  },
  {
   "cell_type": "code",
   "execution_count": 841,
   "id": "132879c0",
   "metadata": {},
   "outputs": [],
   "source": [
    "lula_tweets.drop('quoted_status_id', inplace=True, axis=1)"
   ]
  },
  {
   "cell_type": "markdown",
   "id": "fa39c349",
   "metadata": {},
   "source": [
    "- coluna `quoted_status_id` é desnecessária para o objetivo do projeto."
   ]
  },
  {
   "cell_type": "code",
   "execution_count": 842,
   "id": "d3115900",
   "metadata": {},
   "outputs": [],
   "source": [
    "lula_tweets.drop('quoted_status_id_str', inplace=True, axis=1)"
   ]
  },
  {
   "cell_type": "markdown",
   "id": "2f572d1f",
   "metadata": {},
   "source": [
    "- coluna `quoted_status_id_str` é desnecessária para o objetivo do projeto."
   ]
  },
  {
   "cell_type": "code",
   "execution_count": 843,
   "id": "06fd385e",
   "metadata": {},
   "outputs": [],
   "source": [
    "lula_tweets.drop('quoted_status_permalink', inplace=True, axis=1)"
   ]
  },
  {
   "cell_type": "markdown",
   "id": "4b8215ad",
   "metadata": {},
   "source": [
    "- coluna `quoted_status_permalink` é desnecessária para o objetivo do projeto.\n"
   ]
  },
  {
   "cell_type": "code",
   "execution_count": 844,
   "id": "c87db004",
   "metadata": {},
   "outputs": [],
   "source": [
    "lula_tweets.drop('quoted_status', inplace=True, axis=1)"
   ]
  },
  {
   "cell_type": "markdown",
   "id": "1b419008",
   "metadata": {},
   "source": [
    "- coluna `quoted_status` é desnecessária para o objetivo do projeto."
   ]
  },
  {
   "cell_type": "code",
   "execution_count": 845,
   "id": "2ba3d5f3",
   "metadata": {},
   "outputs": [],
   "source": [
    "lula_tweets.drop('in_reply_to_screen_name', inplace=True, axis=1)"
   ]
  },
  {
   "cell_type": "markdown",
   "id": "38425298",
   "metadata": {},
   "source": [
    "- coluna `in_reply_to_screen_name` é desnecessária para o objetivo do projeto."
   ]
  },
  {
   "cell_type": "code",
   "execution_count": 846,
   "id": "794b72f5",
   "metadata": {},
   "outputs": [],
   "source": [
    "# extraindo a data da coluna created_at e adicionando a uma nova series chamada dates\n",
    "lula_tweets['dates'] = lula_tweets['created_at'].dt.date"
   ]
  },
  {
   "cell_type": "code",
   "execution_count": 847,
   "id": "8f8ebf7a",
   "metadata": {},
   "outputs": [],
   "source": [
    "# extraindo a hora da coluna created_at e adicionando a uma nova series chamada times\n",
    "lula_tweets['times'] = lula_tweets['created_at'].dt.time"
   ]
  },
  {
   "cell_type": "code",
   "execution_count": 848,
   "id": "cc1ad56d",
   "metadata": {},
   "outputs": [],
   "source": [
    "# deletando coluna created_at\n",
    "lula_tweets.drop('created_at', inplace=True, axis=1)"
   ]
  },
  {
   "cell_type": "markdown",
   "id": "df038b8d",
   "metadata": {},
   "source": [
    "coluna `created_at` contém duas variáveis (data e hora)."
   ]
  },
  {
   "cell_type": "code",
   "execution_count": 849,
   "id": "ec571b11",
   "metadata": {},
   "outputs": [],
   "source": [
    "for index, valor in lula_tweets['source'].items():\n",
    "    \n",
    "    if valor.find('android') > -1:\n",
    "        lula_tweets.iloc[index, 2] = 'android'\n",
    "    \n",
    "    if valor.find('iphone') > -1:\n",
    "        lula_tweets.iloc[index, 2] = 'iphone'\n",
    "        \n",
    "    if valor.find('Web Client') > -1: \n",
    "        lula_tweets.iloc[index, 2] = 'client_web'\n",
    "    \n",
    "    if valor.find('Twitter Web App') > -1: \n",
    "        lula_tweets.iloc[index, 2] = 'web_app'\n",
    "        \n",
    "    if valor.find('Twitter for iPad') > -1: \n",
    "        lula_tweets.iloc[index, 2] = 'ipad'\n",
    "        \n",
    "    if valor.find('Facebook') > -1: \n",
    "        lula_tweets.iloc[index, 2] = 'facebook'\n",
    "        \n",
    "    if valor.find('Hootsuite') > -1: \n",
    "        lula_tweets.iloc[index, 2] = 'hoot_suite'\n",
    "        \n",
    "    if valor.find('PicBadges') > -1: \n",
    "        lula_tweets.iloc[index, 2] = 'pic_badges'\n",
    "        \n",
    "    if valor.find('TweetDeck') > -1: \n",
    "        lula_tweets.iloc[index, 2] = 'tweet_deck'\n",
    "        \n",
    "    if valor.find('tvoto') > -1:\n",
    "        lula_tweets.iloc[index, 2] = 'tvoto'\n",
    "        \n",
    "    if valor.find('Twitter Media Studio') > -1:\n",
    "        lula_tweets.iloc[index, 2] = 'media_studio'\n",
    "    \n",
    "    if valor.find('Periscope') > -1:\n",
    "        lula_tweets.iloc[index, 2] = 'periscope'"
   ]
  },
  {
   "cell_type": "markdown",
   "id": "8741092c",
   "metadata": {},
   "source": [
    "coluna `source` só necessita do conteúdo dentro da tag."
   ]
  },
  {
   "cell_type": "code",
   "execution_count": 850,
   "id": "76846ef2",
   "metadata": {},
   "outputs": [],
   "source": [
    "# deletando coluna source\n",
    "lula_tweets.drop('source', inplace=True, axis=1)"
   ]
  },
  {
   "cell_type": "markdown",
   "id": "6b419075",
   "metadata": {},
   "source": [
    "- coluna `source` é desnecessária para o objetivo do projeto."
   ]
  },
  {
   "cell_type": "code",
   "execution_count": 851,
   "id": "8d8e2a3d",
   "metadata": {},
   "outputs": [],
   "source": [
    "# função responsável por remover urls de um tweet\n",
    "\n",
    "def remover_urls(s):\n",
    "    s = re.sub(r'http\\S+', '', s)\n",
    "    return s"
   ]
  },
  {
   "cell_type": "code",
   "execution_count": 852,
   "id": "0b8d209e",
   "metadata": {},
   "outputs": [],
   "source": [
    "lula_tweets['full_text'] = lula_tweets['full_text'].apply(remover_urls)"
   ]
  },
  {
   "cell_type": "markdown",
   "id": "6f4f4ec0",
   "metadata": {},
   "source": [
    "removendo urls dos valores das colunas `full_text`"
   ]
  },
  {
   "cell_type": "code",
   "execution_count": 853,
   "id": "e89763ac",
   "metadata": {},
   "outputs": [],
   "source": [
    "# função responsável por remover menções de um tweet\n",
    "\n",
    "def remover_mentions(s):\n",
    "    s = re.sub(r'@\\S+', '', s)\n",
    "    return s"
   ]
  },
  {
   "cell_type": "code",
   "execution_count": 854,
   "id": "32e81bd3",
   "metadata": {},
   "outputs": [],
   "source": [
    "lula_tweets['full_text'] = lula_tweets['full_text'].apply(remover_mentions)"
   ]
  },
  {
   "cell_type": "markdown",
   "id": "d13f5e91",
   "metadata": {},
   "source": [
    "removendo menções (@algumacoisa) dos valores das colunas `full_text`"
   ]
  },
  {
   "cell_type": "code",
   "execution_count": 855,
   "id": "9e48efe8",
   "metadata": {},
   "outputs": [],
   "source": [
    "# função responsável por remover hashtags de um tweet\n",
    "\n",
    "def remover_hashtags(s):\n",
    "    s = re.sub(r'#\\S+', '', s)\n",
    "    return s"
   ]
  },
  {
   "cell_type": "code",
   "execution_count": 856,
   "id": "e97ce325",
   "metadata": {},
   "outputs": [],
   "source": [
    "lula_tweets['full_text'].replace(regex=r'#|%', value=' ', inplace=True)"
   ]
  },
  {
   "cell_type": "code",
   "execution_count": 857,
   "id": "374071b5",
   "metadata": {},
   "outputs": [],
   "source": [
    "lula_tweets['full_text'] = lula_tweets['full_text'].apply(remover_hashtags)"
   ]
  },
  {
   "cell_type": "markdown",
   "id": "5dfced56",
   "metadata": {},
   "source": [
    "removendo hashtags dos valores das colunas `full_text`"
   ]
  },
  {
   "cell_type": "code",
   "execution_count": 858,
   "id": "ef7c7e89",
   "metadata": {},
   "outputs": [],
   "source": [
    "lula_tweets['full_text'].replace(regex=r'\"|“|,', value=' ', inplace=True)"
   ]
  },
  {
   "cell_type": "markdown",
   "id": "ca1b56c2",
   "metadata": {},
   "source": [
    "removendo asplas duplas dos valores das colunas `full_text`"
   ]
  },
  {
   "cell_type": "code",
   "execution_count": 859,
   "id": "45386143",
   "metadata": {},
   "outputs": [],
   "source": [
    "lula_tweets['full_text'].replace(regex=r'[0-9]', value='', inplace=True)"
   ]
  },
  {
   "cell_type": "markdown",
   "id": "b0d8244e",
   "metadata": {},
   "source": [
    "removendo números dos valores das colunas `full_text`"
   ]
  },
  {
   "cell_type": "code",
   "execution_count": 914,
   "id": "cc41aa43",
   "metadata": {},
   "outputs": [],
   "source": [
    "# criando uma lista de Stopwords para limpar os tweets. Fonte: https://gist.github.com/alopes/5358189#file-stopwords-txt\n",
    "arquivo = open(\"stopwords.txt\", encoding=\"utf-8\", mode=\"r\")\n",
    "\n",
    "# criando uma lista\n",
    "stopwords = []\n",
    "\n",
    "# percorrendo cada palavra do arquivo stopwords e adicionando na lista stopwords.\n",
    "for linha in arquivo:\n",
    "    palavra = linha.strip()\n",
    "    stopwords.append(palavra.lower())\n",
    "    \n",
    "# liberando arquivo\n",
    "arquivo.close()"
   ]
  },
  {
   "cell_type": "code",
   "execution_count": 915,
   "id": "256e52ee",
   "metadata": {},
   "outputs": [],
   "source": [
    "# separando cada palavra de cada twitter do lula e adicionando em uma lista\n",
    "\n",
    "lista_palavras_lula = []\n",
    "\n",
    "for palavra in lula_tweets['full_text']:\n",
    "    lista = palavra.split()\n",
    "    \n",
    "    for item in lista:\n",
    "        lista_palavras_lula.append(item.lower())"
   ]
  },
  {
   "cell_type": "markdown",
   "id": "ffd46c92",
   "metadata": {},
   "source": [
    "separando cada palavra de cada twitter do lula e adicionando em uma lista"
   ]
  },
  {
   "cell_type": "code",
   "execution_count": 916,
   "id": "cff0c425",
   "metadata": {},
   "outputs": [],
   "source": [
    "# removendo stopwords da lista de palavras do lula\n",
    "nova_lista_palavras_lula = []\n",
    "\n",
    "for palavra in lista_palavras_lula:\n",
    "    \n",
    "    if palavra not in stopwords:\n",
    "        nova_lista_palavras_lula.append(palavra)\n",
    "        \n",
    "lista_palavras_lula = nova_lista_palavras_lula"
   ]
  },
  {
   "cell_type": "markdown",
   "id": "94614a8b",
   "metadata": {},
   "source": [
    "removendo stopwords da lista de palavras do lula"
   ]
  },
  {
   "cell_type": "code",
   "execution_count": 917,
   "id": "35cbb9d0",
   "metadata": {},
   "outputs": [],
   "source": [
    "# contando a frequência de cada palavra nos twitters do lula;\n",
    "\n",
    "from collections import Counter\n",
    "\n",
    "lula_dict = Counter( lista_palavras_lula )"
   ]
  },
  {
   "cell_type": "markdown",
   "id": "5d4ebadc",
   "metadata": {},
   "source": [
    "contando a frequência de cada palavra nos twitters do lula"
   ]
  },
  {
   "cell_type": "code",
   "execution_count": 918,
   "id": "3e96af2f",
   "metadata": {},
   "outputs": [],
   "source": [
    "# criando um dataframe de palavras e suas frequências com base nos twitters do lula\n",
    "df_lula = pd.DataFrame(list(lula_dict.items()))\n",
    "\n",
    "# adicionando um cabeçalho ao df_lula\n",
    "df_lula.columns = ['palavra', 'frequência']"
   ]
  },
  {
   "cell_type": "markdown",
   "id": "95ab6346",
   "metadata": {},
   "source": [
    "criando um dataframe de palavras e suas frequências com base nos twitters do lula"
   ]
  },
  {
   "cell_type": "code",
   "execution_count": 919,
   "id": "6efd240f",
   "metadata": {},
   "outputs": [],
   "source": [
    "# criando uma função responsável por calcular o percentual da frequência sobre a frequência total\n",
    "\n",
    "# total da frequência das palavras oriundas dos twitters do lula\n",
    "total_freq_lula = sum( df_lula['frequência'] )\n",
    "\n",
    "def percentual_frequencia(frequencia):\n",
    "    percentual = frequencia / total_freq_lula\n",
    "    return percentual * 100"
   ]
  },
  {
   "cell_type": "code",
   "execution_count": 920,
   "id": "5301d2f5",
   "metadata": {},
   "outputs": [],
   "source": [
    "# criando uma coluna responsável por armazenar o percentual da frequência\n",
    "df_lula['percentual'] = df_lula['frequência'].apply(percentual_frequencia)"
   ]
  },
  {
   "cell_type": "markdown",
   "id": "984fd144",
   "metadata": {},
   "source": [
    "criando uma coluna chamada `percentual` responsável por armazenar o percentual da frequência"
   ]
  },
  {
   "cell_type": "code",
   "execution_count": 921,
   "id": "35270e6a",
   "metadata": {},
   "outputs": [],
   "source": [
    "# exportando as alterações do dataframe lula_tweets para um novo arquivo\n",
    "lula_tweets.to_json('lula_v2.json')"
   ]
  },
  {
   "cell_type": "markdown",
   "id": "2411f060",
   "metadata": {},
   "source": [
    "## Análise Exploratória  de Dados\n",
    "\n",
    "<br>\n",
    "<br>"
   ]
  },
  {
   "cell_type": "code",
   "execution_count": 1059,
   "id": "488b69c3",
   "metadata": {},
   "outputs": [
    {
     "data": {
      "text/html": [
       "<div>\n",
       "<style scoped>\n",
       "    .dataframe tbody tr th:only-of-type {\n",
       "        vertical-align: middle;\n",
       "    }\n",
       "\n",
       "    .dataframe tbody tr th {\n",
       "        vertical-align: top;\n",
       "    }\n",
       "\n",
       "    .dataframe thead th {\n",
       "        text-align: right;\n",
       "    }\n",
       "</style>\n",
       "<table border=\"1\" class=\"dataframe\">\n",
       "  <thead>\n",
       "    <tr style=\"text-align: right;\">\n",
       "      <th></th>\n",
       "      <th>frequência</th>\n",
       "      <th>percentual</th>\n",
       "    </tr>\n",
       "  </thead>\n",
       "  <tbody>\n",
       "    <tr>\n",
       "      <th>count</th>\n",
       "      <td>21248.000000</td>\n",
       "      <td>21248.000000</td>\n",
       "    </tr>\n",
       "    <tr>\n",
       "      <th>mean</th>\n",
       "      <td>6.534921</td>\n",
       "      <td>0.004706</td>\n",
       "    </tr>\n",
       "    <tr>\n",
       "      <th>std</th>\n",
       "      <td>25.235757</td>\n",
       "      <td>0.018174</td>\n",
       "    </tr>\n",
       "    <tr>\n",
       "      <th>min</th>\n",
       "      <td>1.000000</td>\n",
       "      <td>0.000720</td>\n",
       "    </tr>\n",
       "    <tr>\n",
       "      <th>25%</th>\n",
       "      <td>1.000000</td>\n",
       "      <td>0.000720</td>\n",
       "    </tr>\n",
       "    <tr>\n",
       "      <th>50%</th>\n",
       "      <td>1.000000</td>\n",
       "      <td>0.000720</td>\n",
       "    </tr>\n",
       "    <tr>\n",
       "      <th>75%</th>\n",
       "      <td>4.000000</td>\n",
       "      <td>0.002881</td>\n",
       "    </tr>\n",
       "    <tr>\n",
       "      <th>max</th>\n",
       "      <td>1305.000000</td>\n",
       "      <td>0.939836</td>\n",
       "    </tr>\n",
       "  </tbody>\n",
       "</table>\n",
       "</div>"
      ],
      "text/plain": [
       "         frequência    percentual\n",
       "count  21248.000000  21248.000000\n",
       "mean       6.534921      0.004706\n",
       "std       25.235757      0.018174\n",
       "min        1.000000      0.000720\n",
       "25%        1.000000      0.000720\n",
       "50%        1.000000      0.000720\n",
       "75%        4.000000      0.002881\n",
       "max     1305.000000      0.939836"
      ]
     },
     "execution_count": 1059,
     "metadata": {},
     "output_type": "execute_result"
    }
   ],
   "source": [
    "# apresentando informações estatísticas descritivas para as variáveis númericas do dataframe do lula\n",
    "df_lula.describe()"
   ]
  },
  {
   "cell_type": "code",
   "execution_count": 1060,
   "id": "f80f5c50",
   "metadata": {},
   "outputs": [
    {
     "data": {
      "text/html": [
       "<div>\n",
       "<style scoped>\n",
       "    .dataframe tbody tr th:only-of-type {\n",
       "        vertical-align: middle;\n",
       "    }\n",
       "\n",
       "    .dataframe tbody tr th {\n",
       "        vertical-align: top;\n",
       "    }\n",
       "\n",
       "    .dataframe thead th {\n",
       "        text-align: right;\n",
       "    }\n",
       "</style>\n",
       "<table border=\"1\" class=\"dataframe\">\n",
       "  <thead>\n",
       "    <tr style=\"text-align: right;\">\n",
       "      <th></th>\n",
       "      <th>frequência</th>\n",
       "      <th>percentual</th>\n",
       "    </tr>\n",
       "  </thead>\n",
       "  <tbody>\n",
       "    <tr>\n",
       "      <th>count</th>\n",
       "      <td>19523.000000</td>\n",
       "      <td>19523.000000</td>\n",
       "    </tr>\n",
       "    <tr>\n",
       "      <th>mean</th>\n",
       "      <td>3.605952</td>\n",
       "      <td>0.005122</td>\n",
       "    </tr>\n",
       "    <tr>\n",
       "      <th>std</th>\n",
       "      <td>10.312571</td>\n",
       "      <td>0.014649</td>\n",
       "    </tr>\n",
       "    <tr>\n",
       "      <th>min</th>\n",
       "      <td>1.000000</td>\n",
       "      <td>0.001420</td>\n",
       "    </tr>\n",
       "    <tr>\n",
       "      <th>25%</th>\n",
       "      <td>1.000000</td>\n",
       "      <td>0.001420</td>\n",
       "    </tr>\n",
       "    <tr>\n",
       "      <th>50%</th>\n",
       "      <td>1.000000</td>\n",
       "      <td>0.001420</td>\n",
       "    </tr>\n",
       "    <tr>\n",
       "      <th>75%</th>\n",
       "      <td>3.000000</td>\n",
       "      <td>0.004261</td>\n",
       "    </tr>\n",
       "    <tr>\n",
       "      <th>max</th>\n",
       "      <td>764.000000</td>\n",
       "      <td>1.085243</td>\n",
       "    </tr>\n",
       "  </tbody>\n",
       "</table>\n",
       "</div>"
      ],
      "text/plain": [
       "         frequência    percentual\n",
       "count  19523.000000  19523.000000\n",
       "mean       3.605952      0.005122\n",
       "std       10.312571      0.014649\n",
       "min        1.000000      0.001420\n",
       "25%        1.000000      0.001420\n",
       "50%        1.000000      0.001420\n",
       "75%        3.000000      0.004261\n",
       "max      764.000000      1.085243"
      ]
     },
     "execution_count": 1060,
     "metadata": {},
     "output_type": "execute_result"
    }
   ],
   "source": [
    "# apresentando informações estatísticas descritivas para as variáveis númericas do dataframe do bolsonaro\n",
    "df_bolsonaro.describe()"
   ]
  },
  {
   "cell_type": "code",
   "execution_count": 922,
   "id": "96091448",
   "metadata": {
    "scrolled": true
   },
   "outputs": [
    {
     "data": {
      "text/html": [
       "<div>\n",
       "<style scoped>\n",
       "    .dataframe tbody tr th:only-of-type {\n",
       "        vertical-align: middle;\n",
       "    }\n",
       "\n",
       "    .dataframe tbody tr th {\n",
       "        vertical-align: top;\n",
       "    }\n",
       "\n",
       "    .dataframe thead th {\n",
       "        text-align: right;\n",
       "    }\n",
       "</style>\n",
       "<table border=\"1\" class=\"dataframe\">\n",
       "  <thead>\n",
       "    <tr style=\"text-align: right;\">\n",
       "      <th></th>\n",
       "      <th>palavra</th>\n",
       "      <th>frequência</th>\n",
       "      <th>percentual</th>\n",
       "    </tr>\n",
       "  </thead>\n",
       "  <tbody>\n",
       "    <tr>\n",
       "      <th>58</th>\n",
       "      <td>país</td>\n",
       "      <td>1305</td>\n",
       "      <td>0.939836</td>\n",
       "    </tr>\n",
       "    <tr>\n",
       "      <th>148</th>\n",
       "      <td>brasil</td>\n",
       "      <td>1232</td>\n",
       "      <td>0.887263</td>\n",
       "    </tr>\n",
       "    <tr>\n",
       "      <th>78</th>\n",
       "      <td>povo</td>\n",
       "      <td>1195</td>\n",
       "      <td>0.860616</td>\n",
       "    </tr>\n",
       "    <tr>\n",
       "      <th>0</th>\n",
       "      <td>presidente</td>\n",
       "      <td>851</td>\n",
       "      <td>0.612874</td>\n",
       "    </tr>\n",
       "    <tr>\n",
       "      <th>349</th>\n",
       "      <td>governo</td>\n",
       "      <td>577</td>\n",
       "      <td>0.415544</td>\n",
       "    </tr>\n",
       "    <tr>\n",
       "      <th>817</th>\n",
       "      <td>candidato</td>\n",
       "      <td>445</td>\n",
       "      <td>0.320481</td>\n",
       "    </tr>\n",
       "    <tr>\n",
       "      <th>328</th>\n",
       "      <td>educação</td>\n",
       "      <td>341</td>\n",
       "      <td>0.245582</td>\n",
       "    </tr>\n",
       "    <tr>\n",
       "      <th>416</th>\n",
       "      <td>pobre</td>\n",
       "      <td>332</td>\n",
       "      <td>0.239100</td>\n",
       "    </tr>\n",
       "    <tr>\n",
       "      <th>19</th>\n",
       "      <td>política</td>\n",
       "      <td>319</td>\n",
       "      <td>0.229738</td>\n",
       "    </tr>\n",
       "    <tr>\n",
       "      <th>199</th>\n",
       "      <td>entrevista</td>\n",
       "      <td>311</td>\n",
       "      <td>0.223976</td>\n",
       "    </tr>\n",
       "  </tbody>\n",
       "</table>\n",
       "</div>"
      ],
      "text/plain": [
       "        palavra  frequência  percentual\n",
       "58         país        1305    0.939836\n",
       "148      brasil        1232    0.887263\n",
       "78         povo        1195    0.860616\n",
       "0    presidente         851    0.612874\n",
       "349     governo         577    0.415544\n",
       "817   candidato         445    0.320481\n",
       "328    educação         341    0.245582\n",
       "416       pobre         332    0.239100\n",
       "19     política         319    0.229738\n",
       "199  entrevista         311    0.223976"
      ]
     },
     "execution_count": 922,
     "metadata": {},
     "output_type": "execute_result"
    }
   ],
   "source": [
    "# ordenando o df_lula pela frequência e filtrando as 10 palavras mais frequentes\n",
    "df_lula.sort_values(by='frequência', ascending=False)[:10]"
   ]
  },
  {
   "cell_type": "code",
   "execution_count": 924,
   "id": "d95f3a31",
   "metadata": {},
   "outputs": [
    {
     "data": {
      "text/html": [
       "<div>\n",
       "<style scoped>\n",
       "    .dataframe tbody tr th:only-of-type {\n",
       "        vertical-align: middle;\n",
       "    }\n",
       "\n",
       "    .dataframe tbody tr th {\n",
       "        vertical-align: top;\n",
       "    }\n",
       "\n",
       "    .dataframe thead th {\n",
       "        text-align: right;\n",
       "    }\n",
       "</style>\n",
       "<table border=\"1\" class=\"dataframe\">\n",
       "  <thead>\n",
       "    <tr style=\"text-align: right;\">\n",
       "      <th></th>\n",
       "      <th>palavra</th>\n",
       "      <th>frequência</th>\n",
       "      <th>percentual</th>\n",
       "    </tr>\n",
       "  </thead>\n",
       "  <tbody>\n",
       "    <tr>\n",
       "      <th>120</th>\n",
       "      <td>brasil</td>\n",
       "      <td>764</td>\n",
       "      <td>1.085243</td>\n",
       "    </tr>\n",
       "    <tr>\n",
       "      <th>46</th>\n",
       "      <td>governo</td>\n",
       "      <td>322</td>\n",
       "      <td>0.457393</td>\n",
       "    </tr>\n",
       "    <tr>\n",
       "      <th>256</th>\n",
       "      <td>jair</td>\n",
       "      <td>273</td>\n",
       "      <td>0.387790</td>\n",
       "    </tr>\n",
       "    <tr>\n",
       "      <th>408</th>\n",
       "      <td>presidente</td>\n",
       "      <td>209</td>\n",
       "      <td>0.296879</td>\n",
       "    </tr>\n",
       "    <tr>\n",
       "      <th>19</th>\n",
       "      <td>forte</td>\n",
       "      <td>156</td>\n",
       "      <td>0.221594</td>\n",
       "    </tr>\n",
       "    <tr>\n",
       "      <th>779</th>\n",
       "      <td>país</td>\n",
       "      <td>130</td>\n",
       "      <td>0.184662</td>\n",
       "    </tr>\n",
       "    <tr>\n",
       "      <th>226</th>\n",
       "      <td>economia</td>\n",
       "      <td>129</td>\n",
       "      <td>0.183241</td>\n",
       "    </tr>\n",
       "    <tr>\n",
       "      <th>424</th>\n",
       "      <td>segurança</td>\n",
       "      <td>127</td>\n",
       "      <td>0.180400</td>\n",
       "    </tr>\n",
       "    <tr>\n",
       "      <th>237</th>\n",
       "      <td>deus</td>\n",
       "      <td>126</td>\n",
       "      <td>0.178980</td>\n",
       "    </tr>\n",
       "    <tr>\n",
       "      <th>450</th>\n",
       "      <td>esquerda</td>\n",
       "      <td>124</td>\n",
       "      <td>0.176139</td>\n",
       "    </tr>\n",
       "  </tbody>\n",
       "</table>\n",
       "</div>"
      ],
      "text/plain": [
       "        palavra  frequência  percentual\n",
       "120      brasil         764    1.085243\n",
       "46      governo         322    0.457393\n",
       "256        jair         273    0.387790\n",
       "408  presidente         209    0.296879\n",
       "19        forte         156    0.221594\n",
       "779        país         130    0.184662\n",
       "226    economia         129    0.183241\n",
       "424   segurança         127    0.180400\n",
       "237        deus         126    0.178980\n",
       "450    esquerda         124    0.176139"
      ]
     },
     "execution_count": 924,
     "metadata": {},
     "output_type": "execute_result"
    }
   ],
   "source": [
    "# ordenando o df_bolsonaro pela frequência e filtrando as 10 palavras mais frequentes\n",
    "df_bolsonaro.sort_values(by='frequência', ascending=False)[:10]"
   ]
  },
  {
   "cell_type": "code",
   "execution_count": 925,
   "id": "1dab3d58",
   "metadata": {},
   "outputs": [],
   "source": [
    "# definindo o layout padrão (pyplot)\n",
    "import matplotlib.pyplot as plt"
   ]
  },
  {
   "cell_type": "code",
   "execution_count": 926,
   "id": "4cb045e0",
   "metadata": {},
   "outputs": [],
   "source": [
    "# filtrando as 10 palavras mais frequentes nos dataframes do lula e bolsonaro e armazenando em variáveis\n",
    "\n",
    "top_10_bolsonaro = df_bolsonaro.sort_values(by='frequência', ascending=False)[:10].iloc[:, 0:2]\n",
    "top_10_lula = df_lula.sort_values(by='frequência', ascending=False)[:10].iloc[:, 0:2]"
   ]
  },
  {
   "cell_type": "code",
   "execution_count": 927,
   "id": "8b0cb1cc",
   "metadata": {},
   "outputs": [
    {
     "data": {
      "image/png": "[encoded data removed]",
      "text/plain": [
       "<Figure size 720x360 with 1 Axes>"
      ]
     },
     "metadata": {
      "needs_background": "light"
     },
     "output_type": "display_data"
    }
   ],
   "source": [
    "# criando um gráfico de barra horizontal com base no df_bolsonaro\n",
    "\n",
    "figure = plt.figure(figsize=(10, 5))\n",
    "\n",
    "plt.barh(\n",
    "    top_10_bolsonaro['palavra'], \n",
    "    top_10_bolsonaro['frequência'], \n",
    "    label='Palavra',\n",
    "    color='green')\n",
    "\n",
    "plt.grid(b = True, color ='grey',\n",
    "        linestyle ='-.', linewidth = 0.5,\n",
    "        alpha = 0.2)\n",
    "    \n",
    "plt.xlabel('frequência')\n",
    "plt.title('Frequência de palavras twitters Bolsonaro', color='green')\n",
    "plt.show()"
   ]
  },
  {
   "cell_type": "code",
   "execution_count": 928,
   "id": "b59be621",
   "metadata": {},
   "outputs": [
    {
     "data": {
      "image/png": "[encoded data removed]",
      "text/plain": [
       "<Figure size 720x360 with 1 Axes>"
      ]
     },
     "metadata": {
      "needs_background": "light"
     },
     "output_type": "display_data"
    }
   ],
   "source": [
    "# criando um gráfico de barra horizontal com base no df_lula\n",
    "\n",
    "figure = plt.figure(figsize=(10, 5))\n",
    "\n",
    "plt.barh(\n",
    "    top_10_lula['palavra'], \n",
    "    top_10_lula['frequência'], \n",
    "    label='Palavra',\n",
    "    color='red')\n",
    "\n",
    "plt.grid(b = True, color ='grey',\n",
    "        linestyle ='-.', linewidth = 0.5,\n",
    "        alpha = 0.2)\n",
    "\n",
    "plt.xlabel('frequência')\n",
    "plt.title('Frequência de palavras twitters Lula', color='red')\n",
    "plt.show()"
   ]
  },
  {
   "cell_type": "code",
   "execution_count": 929,
   "id": "d6f0914c",
   "metadata": {},
   "outputs": [
    {
     "data": {
      "text/plain": [
       "10        brasil\n",
       "11       governo\n",
       "13    presidente\n",
       "15          país\n",
       "dtype: object"
      ]
     },
     "execution_count": 929,
     "metadata": {},
     "output_type": "execute_result"
    }
   ],
   "source": [
    "# verificando quais palavras estão presentes tanto no dataframe do lula quanto no do bolsonaro\n",
    "palavras_duplicadas = pd.Series( list(top_10_lula['palavra']) + list(top_10_bolsonaro['palavra']) )\n",
    "palavras_duplicadas[palavras_duplicadas.duplicated()]"
   ]
  },
  {
   "cell_type": "code",
   "execution_count": 977,
   "id": "b2072bb6",
   "metadata": {},
   "outputs": [
    {
     "data": {
      "image/png": "[encoded data removed]",
      "text/plain": [
       "<Figure size 720x360 with 1 Axes>"
      ]
     },
     "metadata": {
      "needs_background": "light"
     },
     "output_type": "display_data"
    }
   ],
   "source": [
    "# criando um gráfico de linha para apresentar o total de curtidas por data do dataframe do lula\n",
    "lula_tweets.plot(\n",
    "    x='dates', \n",
    "    y='favorite_count', \n",
    "    color='red', \n",
    "    legend=None, \n",
    "    figsize=(10, 5))\n",
    "\n",
    "plt.title('Total de Curtidas x Data (Lula)', color='red')\n",
    "plt.xlabel('data', fontsize=13, color='red')\n",
    "plt.ylabel('curtidas', fontsize=13, color='red')\n",
    "\n",
    "plt.grid(b = True, color ='grey',\n",
    "        linestyle ='-.', linewidth = 0.5,\n",
    "        alpha = 0.2)\n",
    "\n",
    "plt.show()"
   ]
  },
  {
   "cell_type": "code",
   "execution_count": 1067,
   "id": "fe5a8872",
   "metadata": {},
   "outputs": [
    {
     "data": {
      "image/png": "[encoded data removed]",
      "text/plain": [
       "<Figure size 720x360 with 1 Axes>"
      ]
     },
     "metadata": {
      "needs_background": "light"
     },
     "output_type": "display_data"
    }
   ],
   "source": [
    "# criando um gráfico de linha para apresentar o total de curtidas ao decorrer do dia, do dataframe do lula\n",
    "lula_tweets.plot(\n",
    "    x='times', \n",
    "    y='favorite_count', \n",
    "    color='red', \n",
    "    legend=None, \n",
    "    figsize=(10, 5))\n",
    "\n",
    "plt.title('Total de Curtidas x Hora (Lula)', color='red')\n",
    "plt.xlabel('hora', fontsize=13, color='red')\n",
    "plt.ylabel('curtidas', fontsize=13, color='red')\n",
    "\n",
    "plt.grid(b = True, color ='grey',\n",
    "        linestyle ='-.', linewidth = 0.5,\n",
    "        alpha = 0.2)\n",
    "\n",
    "plt.show()"
   ]
  },
  {
   "cell_type": "code",
   "execution_count": 1068,
   "id": "7f6e287c",
   "metadata": {},
   "outputs": [
    {
     "data": {
      "image/png": "[encoded data removed]",
      "text/plain": [
       "<Figure size 720x360 with 1 Axes>"
      ]
     },
     "metadata": {
      "needs_background": "light"
     },
     "output_type": "display_data"
    }
   ],
   "source": [
    "# criando um gráfico de linha para apresentar o total de curtidas por data do dataframe do bolsonaro\n",
    "bolsonaro_tweets.plot(\n",
    "    x='dates', \n",
    "    y='favorite_count', \n",
    "    color='green', \n",
    "    legend=None, \n",
    "    figsize=(10, 5))\n",
    "\n",
    "plt.title('Total de Curtidas x Data (Bolsonaro)', color='green')\n",
    "plt.xlabel('data', fontsize=13, color='green')\n",
    "plt.ylabel('curtidas', fontsize=13, color='green')\n",
    "\n",
    "plt.grid(b = True, color ='grey',\n",
    "        linestyle ='-.', linewidth = 0.5,\n",
    "        alpha = 0.2)\n",
    "\n",
    "plt.show()"
   ]
  },
  {
   "cell_type": "code",
   "execution_count": 1069,
   "id": "60a6bd24",
   "metadata": {},
   "outputs": [
    {
     "data": {
      "image/png": "[encoded data removed]",
      "text/plain": [
       "<Figure size 720x360 with 1 Axes>"
      ]
     },
     "metadata": {
      "needs_background": "light"
     },
     "output_type": "display_data"
    }
   ],
   "source": [
    "# criando um gráfico de linha para apresentar o total de curtidas ao decorrer do dia, do dataframe do bolsonaro\n",
    "bolsonaro_tweets.plot(\n",
    "    x='times', \n",
    "    y='favorite_count', \n",
    "    color='green', \n",
    "    legend=None, \n",
    "    figsize=(10, 5))\n",
    "\n",
    "plt.title('Total de Curtidas x Hora (Bolsonaro)', color='green')\n",
    "plt.xlabel('hora', fontsize=13, color='green')\n",
    "plt.ylabel('curtidas', fontsize=13, color='green')\n",
    "\n",
    "plt.grid(b = True, color ='grey',\n",
    "        linestyle ='-.', linewidth = 0.5,\n",
    "        alpha = 0.2)\n",
    "\n",
    "plt.show()"
   ]
  },
  {
   "cell_type": "code",
   "execution_count": 1054,
   "id": "729e4c68",
   "metadata": {},
   "outputs": [
    {
     "name": "stdout",
     "output_type": "stream",
     "text": [
      "total de curtidas do lula \t15.563.617\n",
      "total de curtidas do bolsonaro \t117.259.236\n"
     ]
    }
   ],
   "source": [
    "total_curtidas_lula = sum(lula_tweets['favorite_count'])\n",
    "total_curtidas_bolsonaro = sum(bolsonaro_tweets['favorite_count'])\n",
    "\n",
    "print('total de curtidas do lula \\t{:,}'.format(total_curtidas_lula).replace(',','.'))\n",
    "print('total de curtidas do bolsonaro \\t{:,}'.format(total_curtidas_bolsonaro).replace(',','.'))"
   ]
  },
  {
   "cell_type": "markdown",
   "id": "4693314d",
   "metadata": {},
   "source": [
    "## Conclusões\n",
    "\n",
    "\n",
    "<p style=\"text-align:justify\">\n",
    "\n",
    "A metodologia utilizada para a análise de viés político neste projeto teve como cerne a verificação da frequência de cada palavra e a exclusão de stopwords, ou seja, palavras que não apresentam um sentido relevante como (e, ou, ainda, sobre, etc...). \n",
    "\n",
    "Outro ponto a ser levado em consideração nesta análise foi a exclusão de nomes de pessoas, partidos, empresas e alguns nomes próprios que podem ter sentido diferente dependendo do contexto, dessa forma, filtrando apenas palavras que podem ter uma importância significativa no resultado final da análise. \n",
    "    \n",
    "Outro ponto a ser observado foi uma análise mais voltada para as palavras mais frequentes pois estas como pode-se perceber ditam muitas das vezes os diálogos/discurssões nos tweets.\n",
    "\n",
    "Ao final do cálculo da frequência de cada palavra e o filtro das top 10 palavras mais frequentes foi identificado que em ambos os conjuntos de tweets as palavras `brasil`, `governo`, `presidente` e `país` estão presentes.    \n",
    "\n",
    "Outro fato curioso ao fazer a análise exploratória nos tweets do presidente bolsonaro e do ex-presidente lula é que o __público do presidente bolsonaro é um público mais engajado e ativo ao longo do tempo e ao decorrer do dia__ em comparação ao público do ex-presidente lula. Um fato que comprova o engajamento do público do presidente bolsonaro é a quantidade de curtidas (117.259.236) em comparação as do ex-presidente lula (15.563.617) e ao gráfico de curtidas por hora e por período.\n",
    "    \n",
    "\n",
    "</p>\n",
    "\n",
    "\n",
    "### Analisando os tweets do Bolsonaro\n",
    "\n",
    "<p style=\"text-align:justify\">\n",
    "\n",
    "Ao analisar os tweets do presidente Bolsonaro pode-se observar uma grande presença das palavras `brasil` com uma frequência de 764, `governo` com uma frequência de 322 e `jair` com uma frequência de 273. Um fato curioso ao filtrar às das 10 palavras mais frequentes nos tweets do bolsonaro é a presença da palavra __esquerda__ que tem uma frequência de 124. \n",
    "\n",
    "Nos tweets do bolsonaro a __palavra mais frequente (brasil) teve uma frequência de 764__ e a __palavra menos frequente (convencendo) teve uma frequência de uma vez__. Já fazendo uma análise no total de curtidas nos tweets do bolsonaro através do tempo pode-se perceber que do final do ano de 2018 ao final do ano de 2020 a quantidade de curtidas em seus tweets é muito alta, consequentemente, o engajamento do seu público é bem significato neste período e nesta rede social.\n",
    "\n",
    "</p>\n",
    "\n",
    "### Analisando os tweets do Lula\n",
    "\n",
    "Ao analisar os tweets do ex-presidente Lula pode-se observar uma grande presença das palavras `pais` com uma frequência de 1305, `brasil` com uma frequência de 1232 e `povo` com uma frequência de 1195.\n",
    "\n",
    "Nos tweets do lula a __palavra mais frequente (país) teve uma frequência de 1305__ e a __palavra menos frequente (batochio) teve uma frequência de uma vez__. \n",
    "\n",
    "\n",
    "Já fazendo uma análise no total de curtidas nos tweets do lula através do tempo pode-se perceber que 2020 é o ano com a maior quantidade de curtidas em seus tweets em comparação aos demais períodos, ou seja, o engajamento do público não foi tão relevante ao decorrer do tempo nesta rede social."
   ]
  },
  {
   "cell_type": "code",
   "execution_count": null,
   "id": "48220651",
   "metadata": {},
   "outputs": [],
   "source": []
  }
 ],
 "metadata": {
  "kernelspec": {
   "display_name": "Python 3 (ipykernel)",
   "language": "python",
   "name": "python3"
  },
  "language_info": {
   "codemirror_mode": {
    "name": "ipython",
    "version": 3
   },
   "file_extension": ".py",
   "mimetype": "text/x-python",
   "name": "python",
   "nbconvert_exporter": "python",
   "pygments_lexer": "ipython3",
   "version": "3.9.7"
  }
 },
 "nbformat": 4,
 "nbformat_minor": 5
}
